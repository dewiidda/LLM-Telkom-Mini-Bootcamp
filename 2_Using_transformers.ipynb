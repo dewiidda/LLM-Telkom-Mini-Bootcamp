{
  "nbformat": 4,
  "nbformat_minor": 0,
  "metadata": {
    "colab": {
      "provenance": [],
      "collapsed_sections": [
        "PT9UH2hulSKa",
        "huW-CJ9smEw9",
        "P0-owPwLnsHw",
        "XBvUMBw5rU_7",
        "sfJXnmT8sruR",
        "UpkBqCCDsvr5",
        "PPFrsEThs0vo",
        "Pr-CPpzytWmL",
        "1AU-F04ltjyc"
      ],
      "gpuType": "T4",
      "authorship_tag": "ABX9TyO77zq5lM9qVNB6AdPvLrCD",
      "include_colab_link": true
    },
    "kernelspec": {
      "name": "python3",
      "display_name": "Python 3"
    },
    "language_info": {
      "name": "python"
    },
    "widgets": {
      "application/vnd.jupyter.widget-state+json": {
        "2f753084445c4f2a8ded54d775ecd4e6": {
          "model_module": "@jupyter-widgets/controls",
          "model_name": "HBoxModel",
          "model_module_version": "1.5.0",
          "state": {
            "_dom_classes": [],
            "_model_module": "@jupyter-widgets/controls",
            "_model_module_version": "1.5.0",
            "_model_name": "HBoxModel",
            "_view_count": null,
            "_view_module": "@jupyter-widgets/controls",
            "_view_module_version": "1.5.0",
            "_view_name": "HBoxView",
            "box_style": "",
            "children": [
              "IPY_MODEL_1b8f6eef197145c4b662a33290465536",
              "IPY_MODEL_e06b7fac1d614bab83908a3aa23606e3",
              "IPY_MODEL_c26ce86fb9d34e60a9d32c8a779ceaf1"
            ],
            "layout": "IPY_MODEL_f7e917e6d6244d69b8c90f777424ced7"
          }
        },
        "1b8f6eef197145c4b662a33290465536": {
          "model_module": "@jupyter-widgets/controls",
          "model_name": "HTMLModel",
          "model_module_version": "1.5.0",
          "state": {
            "_dom_classes": [],
            "_model_module": "@jupyter-widgets/controls",
            "_model_module_version": "1.5.0",
            "_model_name": "HTMLModel",
            "_view_count": null,
            "_view_module": "@jupyter-widgets/controls",
            "_view_module_version": "1.5.0",
            "_view_name": "HTMLView",
            "description": "",
            "description_tooltip": null,
            "layout": "IPY_MODEL_f40a78971e644e1ba12164c194e8ceec",
            "placeholder": "​",
            "style": "IPY_MODEL_debc0de9158649a3b268decb76d51133",
            "value": "tokenizer_config.json: 100%"
          }
        },
        "e06b7fac1d614bab83908a3aa23606e3": {
          "model_module": "@jupyter-widgets/controls",
          "model_name": "FloatProgressModel",
          "model_module_version": "1.5.0",
          "state": {
            "_dom_classes": [],
            "_model_module": "@jupyter-widgets/controls",
            "_model_module_version": "1.5.0",
            "_model_name": "FloatProgressModel",
            "_view_count": null,
            "_view_module": "@jupyter-widgets/controls",
            "_view_module_version": "1.5.0",
            "_view_name": "ProgressView",
            "bar_style": "success",
            "description": "",
            "description_tooltip": null,
            "layout": "IPY_MODEL_424303e0bda54742ad90ad96f26ea8a0",
            "max": 49,
            "min": 0,
            "orientation": "horizontal",
            "style": "IPY_MODEL_89f2300b565b4bfc9f697509ae33656d",
            "value": 49
          }
        },
        "c26ce86fb9d34e60a9d32c8a779ceaf1": {
          "model_module": "@jupyter-widgets/controls",
          "model_name": "HTMLModel",
          "model_module_version": "1.5.0",
          "state": {
            "_dom_classes": [],
            "_model_module": "@jupyter-widgets/controls",
            "_model_module_version": "1.5.0",
            "_model_name": "HTMLModel",
            "_view_count": null,
            "_view_module": "@jupyter-widgets/controls",
            "_view_module_version": "1.5.0",
            "_view_name": "HTMLView",
            "description": "",
            "description_tooltip": null,
            "layout": "IPY_MODEL_52a9c260d11e4c718c18240d83002a4a",
            "placeholder": "​",
            "style": "IPY_MODEL_7f95e0ac8f534a1cb93f937de75c6aaa",
            "value": " 49.0/49.0 [00:00&lt;00:00, 901B/s]"
          }
        },
        "f7e917e6d6244d69b8c90f777424ced7": {
          "model_module": "@jupyter-widgets/base",
          "model_name": "LayoutModel",
          "model_module_version": "1.2.0",
          "state": {
            "_model_module": "@jupyter-widgets/base",
            "_model_module_version": "1.2.0",
            "_model_name": "LayoutModel",
            "_view_count": null,
            "_view_module": "@jupyter-widgets/base",
            "_view_module_version": "1.2.0",
            "_view_name": "LayoutView",
            "align_content": null,
            "align_items": null,
            "align_self": null,
            "border": null,
            "bottom": null,
            "display": null,
            "flex": null,
            "flex_flow": null,
            "grid_area": null,
            "grid_auto_columns": null,
            "grid_auto_flow": null,
            "grid_auto_rows": null,
            "grid_column": null,
            "grid_gap": null,
            "grid_row": null,
            "grid_template_areas": null,
            "grid_template_columns": null,
            "grid_template_rows": null,
            "height": null,
            "justify_content": null,
            "justify_items": null,
            "left": null,
            "margin": null,
            "max_height": null,
            "max_width": null,
            "min_height": null,
            "min_width": null,
            "object_fit": null,
            "object_position": null,
            "order": null,
            "overflow": null,
            "overflow_x": null,
            "overflow_y": null,
            "padding": null,
            "right": null,
            "top": null,
            "visibility": null,
            "width": null
          }
        },
        "f40a78971e644e1ba12164c194e8ceec": {
          "model_module": "@jupyter-widgets/base",
          "model_name": "LayoutModel",
          "model_module_version": "1.2.0",
          "state": {
            "_model_module": "@jupyter-widgets/base",
            "_model_module_version": "1.2.0",
            "_model_name": "LayoutModel",
            "_view_count": null,
            "_view_module": "@jupyter-widgets/base",
            "_view_module_version": "1.2.0",
            "_view_name": "LayoutView",
            "align_content": null,
            "align_items": null,
            "align_self": null,
            "border": null,
            "bottom": null,
            "display": null,
            "flex": null,
            "flex_flow": null,
            "grid_area": null,
            "grid_auto_columns": null,
            "grid_auto_flow": null,
            "grid_auto_rows": null,
            "grid_column": null,
            "grid_gap": null,
            "grid_row": null,
            "grid_template_areas": null,
            "grid_template_columns": null,
            "grid_template_rows": null,
            "height": null,
            "justify_content": null,
            "justify_items": null,
            "left": null,
            "margin": null,
            "max_height": null,
            "max_width": null,
            "min_height": null,
            "min_width": null,
            "object_fit": null,
            "object_position": null,
            "order": null,
            "overflow": null,
            "overflow_x": null,
            "overflow_y": null,
            "padding": null,
            "right": null,
            "top": null,
            "visibility": null,
            "width": null
          }
        },
        "debc0de9158649a3b268decb76d51133": {
          "model_module": "@jupyter-widgets/controls",
          "model_name": "DescriptionStyleModel",
          "model_module_version": "1.5.0",
          "state": {
            "_model_module": "@jupyter-widgets/controls",
            "_model_module_version": "1.5.0",
            "_model_name": "DescriptionStyleModel",
            "_view_count": null,
            "_view_module": "@jupyter-widgets/base",
            "_view_module_version": "1.2.0",
            "_view_name": "StyleView",
            "description_width": ""
          }
        },
        "424303e0bda54742ad90ad96f26ea8a0": {
          "model_module": "@jupyter-widgets/base",
          "model_name": "LayoutModel",
          "model_module_version": "1.2.0",
          "state": {
            "_model_module": "@jupyter-widgets/base",
            "_model_module_version": "1.2.0",
            "_model_name": "LayoutModel",
            "_view_count": null,
            "_view_module": "@jupyter-widgets/base",
            "_view_module_version": "1.2.0",
            "_view_name": "LayoutView",
            "align_content": null,
            "align_items": null,
            "align_self": null,
            "border": null,
            "bottom": null,
            "display": null,
            "flex": null,
            "flex_flow": null,
            "grid_area": null,
            "grid_auto_columns": null,
            "grid_auto_flow": null,
            "grid_auto_rows": null,
            "grid_column": null,
            "grid_gap": null,
            "grid_row": null,
            "grid_template_areas": null,
            "grid_template_columns": null,
            "grid_template_rows": null,
            "height": null,
            "justify_content": null,
            "justify_items": null,
            "left": null,
            "margin": null,
            "max_height": null,
            "max_width": null,
            "min_height": null,
            "min_width": null,
            "object_fit": null,
            "object_position": null,
            "order": null,
            "overflow": null,
            "overflow_x": null,
            "overflow_y": null,
            "padding": null,
            "right": null,
            "top": null,
            "visibility": null,
            "width": null
          }
        },
        "89f2300b565b4bfc9f697509ae33656d": {
          "model_module": "@jupyter-widgets/controls",
          "model_name": "ProgressStyleModel",
          "model_module_version": "1.5.0",
          "state": {
            "_model_module": "@jupyter-widgets/controls",
            "_model_module_version": "1.5.0",
            "_model_name": "ProgressStyleModel",
            "_view_count": null,
            "_view_module": "@jupyter-widgets/base",
            "_view_module_version": "1.2.0",
            "_view_name": "StyleView",
            "bar_color": null,
            "description_width": ""
          }
        },
        "52a9c260d11e4c718c18240d83002a4a": {
          "model_module": "@jupyter-widgets/base",
          "model_name": "LayoutModel",
          "model_module_version": "1.2.0",
          "state": {
            "_model_module": "@jupyter-widgets/base",
            "_model_module_version": "1.2.0",
            "_model_name": "LayoutModel",
            "_view_count": null,
            "_view_module": "@jupyter-widgets/base",
            "_view_module_version": "1.2.0",
            "_view_name": "LayoutView",
            "align_content": null,
            "align_items": null,
            "align_self": null,
            "border": null,
            "bottom": null,
            "display": null,
            "flex": null,
            "flex_flow": null,
            "grid_area": null,
            "grid_auto_columns": null,
            "grid_auto_flow": null,
            "grid_auto_rows": null,
            "grid_column": null,
            "grid_gap": null,
            "grid_row": null,
            "grid_template_areas": null,
            "grid_template_columns": null,
            "grid_template_rows": null,
            "height": null,
            "justify_content": null,
            "justify_items": null,
            "left": null,
            "margin": null,
            "max_height": null,
            "max_width": null,
            "min_height": null,
            "min_width": null,
            "object_fit": null,
            "object_position": null,
            "order": null,
            "overflow": null,
            "overflow_x": null,
            "overflow_y": null,
            "padding": null,
            "right": null,
            "top": null,
            "visibility": null,
            "width": null
          }
        },
        "7f95e0ac8f534a1cb93f937de75c6aaa": {
          "model_module": "@jupyter-widgets/controls",
          "model_name": "DescriptionStyleModel",
          "model_module_version": "1.5.0",
          "state": {
            "_model_module": "@jupyter-widgets/controls",
            "_model_module_version": "1.5.0",
            "_model_name": "DescriptionStyleModel",
            "_view_count": null,
            "_view_module": "@jupyter-widgets/base",
            "_view_module_version": "1.2.0",
            "_view_name": "StyleView",
            "description_width": ""
          }
        },
        "40bd66216b114ca4947485669a0a4a7e": {
          "model_module": "@jupyter-widgets/controls",
          "model_name": "HBoxModel",
          "model_module_version": "1.5.0",
          "state": {
            "_dom_classes": [],
            "_model_module": "@jupyter-widgets/controls",
            "_model_module_version": "1.5.0",
            "_model_name": "HBoxModel",
            "_view_count": null,
            "_view_module": "@jupyter-widgets/controls",
            "_view_module_version": "1.5.0",
            "_view_name": "HBoxView",
            "box_style": "",
            "children": [
              "IPY_MODEL_bb86d966c3e44d068df4c7c71e7dfc52",
              "IPY_MODEL_388e7c566c934775ba22039a76756501",
              "IPY_MODEL_7252f0b594d04f93861547bcb26713d6"
            ],
            "layout": "IPY_MODEL_712a9fa87c9545b1b31c7d142ff385d1"
          }
        },
        "bb86d966c3e44d068df4c7c71e7dfc52": {
          "model_module": "@jupyter-widgets/controls",
          "model_name": "HTMLModel",
          "model_module_version": "1.5.0",
          "state": {
            "_dom_classes": [],
            "_model_module": "@jupyter-widgets/controls",
            "_model_module_version": "1.5.0",
            "_model_name": "HTMLModel",
            "_view_count": null,
            "_view_module": "@jupyter-widgets/controls",
            "_view_module_version": "1.5.0",
            "_view_name": "HTMLView",
            "description": "",
            "description_tooltip": null,
            "layout": "IPY_MODEL_689a5bb3b75b4bc7a024353084208636",
            "placeholder": "​",
            "style": "IPY_MODEL_ddc2954a86024085bbf9875cbd512581",
            "value": "vocab.txt: 100%"
          }
        },
        "388e7c566c934775ba22039a76756501": {
          "model_module": "@jupyter-widgets/controls",
          "model_name": "FloatProgressModel",
          "model_module_version": "1.5.0",
          "state": {
            "_dom_classes": [],
            "_model_module": "@jupyter-widgets/controls",
            "_model_module_version": "1.5.0",
            "_model_name": "FloatProgressModel",
            "_view_count": null,
            "_view_module": "@jupyter-widgets/controls",
            "_view_module_version": "1.5.0",
            "_view_name": "ProgressView",
            "bar_style": "success",
            "description": "",
            "description_tooltip": null,
            "layout": "IPY_MODEL_d96a0d8a03324220bdc960039e38a7fb",
            "max": 213450,
            "min": 0,
            "orientation": "horizontal",
            "style": "IPY_MODEL_0394d273ac2f4f90b8b189c439d16fc1",
            "value": 213450
          }
        },
        "7252f0b594d04f93861547bcb26713d6": {
          "model_module": "@jupyter-widgets/controls",
          "model_name": "HTMLModel",
          "model_module_version": "1.5.0",
          "state": {
            "_dom_classes": [],
            "_model_module": "@jupyter-widgets/controls",
            "_model_module_version": "1.5.0",
            "_model_name": "HTMLModel",
            "_view_count": null,
            "_view_module": "@jupyter-widgets/controls",
            "_view_module_version": "1.5.0",
            "_view_name": "HTMLView",
            "description": "",
            "description_tooltip": null,
            "layout": "IPY_MODEL_5e3c04835b6e46818f854d7e3c9d7eb1",
            "placeholder": "​",
            "style": "IPY_MODEL_152adea5f790427e9bfd1a3178407f52",
            "value": " 213k/213k [00:00&lt;00:00, 1.89MB/s]"
          }
        },
        "712a9fa87c9545b1b31c7d142ff385d1": {
          "model_module": "@jupyter-widgets/base",
          "model_name": "LayoutModel",
          "model_module_version": "1.2.0",
          "state": {
            "_model_module": "@jupyter-widgets/base",
            "_model_module_version": "1.2.0",
            "_model_name": "LayoutModel",
            "_view_count": null,
            "_view_module": "@jupyter-widgets/base",
            "_view_module_version": "1.2.0",
            "_view_name": "LayoutView",
            "align_content": null,
            "align_items": null,
            "align_self": null,
            "border": null,
            "bottom": null,
            "display": null,
            "flex": null,
            "flex_flow": null,
            "grid_area": null,
            "grid_auto_columns": null,
            "grid_auto_flow": null,
            "grid_auto_rows": null,
            "grid_column": null,
            "grid_gap": null,
            "grid_row": null,
            "grid_template_areas": null,
            "grid_template_columns": null,
            "grid_template_rows": null,
            "height": null,
            "justify_content": null,
            "justify_items": null,
            "left": null,
            "margin": null,
            "max_height": null,
            "max_width": null,
            "min_height": null,
            "min_width": null,
            "object_fit": null,
            "object_position": null,
            "order": null,
            "overflow": null,
            "overflow_x": null,
            "overflow_y": null,
            "padding": null,
            "right": null,
            "top": null,
            "visibility": null,
            "width": null
          }
        },
        "689a5bb3b75b4bc7a024353084208636": {
          "model_module": "@jupyter-widgets/base",
          "model_name": "LayoutModel",
          "model_module_version": "1.2.0",
          "state": {
            "_model_module": "@jupyter-widgets/base",
            "_model_module_version": "1.2.0",
            "_model_name": "LayoutModel",
            "_view_count": null,
            "_view_module": "@jupyter-widgets/base",
            "_view_module_version": "1.2.0",
            "_view_name": "LayoutView",
            "align_content": null,
            "align_items": null,
            "align_self": null,
            "border": null,
            "bottom": null,
            "display": null,
            "flex": null,
            "flex_flow": null,
            "grid_area": null,
            "grid_auto_columns": null,
            "grid_auto_flow": null,
            "grid_auto_rows": null,
            "grid_column": null,
            "grid_gap": null,
            "grid_row": null,
            "grid_template_areas": null,
            "grid_template_columns": null,
            "grid_template_rows": null,
            "height": null,
            "justify_content": null,
            "justify_items": null,
            "left": null,
            "margin": null,
            "max_height": null,
            "max_width": null,
            "min_height": null,
            "min_width": null,
            "object_fit": null,
            "object_position": null,
            "order": null,
            "overflow": null,
            "overflow_x": null,
            "overflow_y": null,
            "padding": null,
            "right": null,
            "top": null,
            "visibility": null,
            "width": null
          }
        },
        "ddc2954a86024085bbf9875cbd512581": {
          "model_module": "@jupyter-widgets/controls",
          "model_name": "DescriptionStyleModel",
          "model_module_version": "1.5.0",
          "state": {
            "_model_module": "@jupyter-widgets/controls",
            "_model_module_version": "1.5.0",
            "_model_name": "DescriptionStyleModel",
            "_view_count": null,
            "_view_module": "@jupyter-widgets/base",
            "_view_module_version": "1.2.0",
            "_view_name": "StyleView",
            "description_width": ""
          }
        },
        "d96a0d8a03324220bdc960039e38a7fb": {
          "model_module": "@jupyter-widgets/base",
          "model_name": "LayoutModel",
          "model_module_version": "1.2.0",
          "state": {
            "_model_module": "@jupyter-widgets/base",
            "_model_module_version": "1.2.0",
            "_model_name": "LayoutModel",
            "_view_count": null,
            "_view_module": "@jupyter-widgets/base",
            "_view_module_version": "1.2.0",
            "_view_name": "LayoutView",
            "align_content": null,
            "align_items": null,
            "align_self": null,
            "border": null,
            "bottom": null,
            "display": null,
            "flex": null,
            "flex_flow": null,
            "grid_area": null,
            "grid_auto_columns": null,
            "grid_auto_flow": null,
            "grid_auto_rows": null,
            "grid_column": null,
            "grid_gap": null,
            "grid_row": null,
            "grid_template_areas": null,
            "grid_template_columns": null,
            "grid_template_rows": null,
            "height": null,
            "justify_content": null,
            "justify_items": null,
            "left": null,
            "margin": null,
            "max_height": null,
            "max_width": null,
            "min_height": null,
            "min_width": null,
            "object_fit": null,
            "object_position": null,
            "order": null,
            "overflow": null,
            "overflow_x": null,
            "overflow_y": null,
            "padding": null,
            "right": null,
            "top": null,
            "visibility": null,
            "width": null
          }
        },
        "0394d273ac2f4f90b8b189c439d16fc1": {
          "model_module": "@jupyter-widgets/controls",
          "model_name": "ProgressStyleModel",
          "model_module_version": "1.5.0",
          "state": {
            "_model_module": "@jupyter-widgets/controls",
            "_model_module_version": "1.5.0",
            "_model_name": "ProgressStyleModel",
            "_view_count": null,
            "_view_module": "@jupyter-widgets/base",
            "_view_module_version": "1.2.0",
            "_view_name": "StyleView",
            "bar_color": null,
            "description_width": ""
          }
        },
        "5e3c04835b6e46818f854d7e3c9d7eb1": {
          "model_module": "@jupyter-widgets/base",
          "model_name": "LayoutModel",
          "model_module_version": "1.2.0",
          "state": {
            "_model_module": "@jupyter-widgets/base",
            "_model_module_version": "1.2.0",
            "_model_name": "LayoutModel",
            "_view_count": null,
            "_view_module": "@jupyter-widgets/base",
            "_view_module_version": "1.2.0",
            "_view_name": "LayoutView",
            "align_content": null,
            "align_items": null,
            "align_self": null,
            "border": null,
            "bottom": null,
            "display": null,
            "flex": null,
            "flex_flow": null,
            "grid_area": null,
            "grid_auto_columns": null,
            "grid_auto_flow": null,
            "grid_auto_rows": null,
            "grid_column": null,
            "grid_gap": null,
            "grid_row": null,
            "grid_template_areas": null,
            "grid_template_columns": null,
            "grid_template_rows": null,
            "height": null,
            "justify_content": null,
            "justify_items": null,
            "left": null,
            "margin": null,
            "max_height": null,
            "max_width": null,
            "min_height": null,
            "min_width": null,
            "object_fit": null,
            "object_position": null,
            "order": null,
            "overflow": null,
            "overflow_x": null,
            "overflow_y": null,
            "padding": null,
            "right": null,
            "top": null,
            "visibility": null,
            "width": null
          }
        },
        "152adea5f790427e9bfd1a3178407f52": {
          "model_module": "@jupyter-widgets/controls",
          "model_name": "DescriptionStyleModel",
          "model_module_version": "1.5.0",
          "state": {
            "_model_module": "@jupyter-widgets/controls",
            "_model_module_version": "1.5.0",
            "_model_name": "DescriptionStyleModel",
            "_view_count": null,
            "_view_module": "@jupyter-widgets/base",
            "_view_module_version": "1.2.0",
            "_view_name": "StyleView",
            "description_width": ""
          }
        },
        "e2ea4af2b6aa4c98a2e30cc01d6cdd36": {
          "model_module": "@jupyter-widgets/controls",
          "model_name": "HBoxModel",
          "model_module_version": "1.5.0",
          "state": {
            "_dom_classes": [],
            "_model_module": "@jupyter-widgets/controls",
            "_model_module_version": "1.5.0",
            "_model_name": "HBoxModel",
            "_view_count": null,
            "_view_module": "@jupyter-widgets/controls",
            "_view_module_version": "1.5.0",
            "_view_name": "HBoxView",
            "box_style": "",
            "children": [
              "IPY_MODEL_4fd601c9316c460990f9fea40feaade0",
              "IPY_MODEL_80a65e03b641451e98fa7404e175012e",
              "IPY_MODEL_7767b33c7d8b4ee19135fc25376b760c"
            ],
            "layout": "IPY_MODEL_47871d923f7a475f919939aaf8659637"
          }
        },
        "4fd601c9316c460990f9fea40feaade0": {
          "model_module": "@jupyter-widgets/controls",
          "model_name": "HTMLModel",
          "model_module_version": "1.5.0",
          "state": {
            "_dom_classes": [],
            "_model_module": "@jupyter-widgets/controls",
            "_model_module_version": "1.5.0",
            "_model_name": "HTMLModel",
            "_view_count": null,
            "_view_module": "@jupyter-widgets/controls",
            "_view_module_version": "1.5.0",
            "_view_name": "HTMLView",
            "description": "",
            "description_tooltip": null,
            "layout": "IPY_MODEL_a82e97dd332d43d4a7e4924b464a54aa",
            "placeholder": "​",
            "style": "IPY_MODEL_eff9eb082c894f0184c052f98e3d6ffc",
            "value": "tokenizer.json: 100%"
          }
        },
        "80a65e03b641451e98fa7404e175012e": {
          "model_module": "@jupyter-widgets/controls",
          "model_name": "FloatProgressModel",
          "model_module_version": "1.5.0",
          "state": {
            "_dom_classes": [],
            "_model_module": "@jupyter-widgets/controls",
            "_model_module_version": "1.5.0",
            "_model_name": "FloatProgressModel",
            "_view_count": null,
            "_view_module": "@jupyter-widgets/controls",
            "_view_module_version": "1.5.0",
            "_view_name": "ProgressView",
            "bar_style": "success",
            "description": "",
            "description_tooltip": null,
            "layout": "IPY_MODEL_93766d8d1aa84cfe9f69de3186378a16",
            "max": 435797,
            "min": 0,
            "orientation": "horizontal",
            "style": "IPY_MODEL_e304a28534cc4af5953ec86338d5ab1f",
            "value": 435797
          }
        },
        "7767b33c7d8b4ee19135fc25376b760c": {
          "model_module": "@jupyter-widgets/controls",
          "model_name": "HTMLModel",
          "model_module_version": "1.5.0",
          "state": {
            "_dom_classes": [],
            "_model_module": "@jupyter-widgets/controls",
            "_model_module_version": "1.5.0",
            "_model_name": "HTMLModel",
            "_view_count": null,
            "_view_module": "@jupyter-widgets/controls",
            "_view_module_version": "1.5.0",
            "_view_name": "HTMLView",
            "description": "",
            "description_tooltip": null,
            "layout": "IPY_MODEL_48ace86caf014a368d3dd2956133117f",
            "placeholder": "​",
            "style": "IPY_MODEL_937c0015d12e4f8b8793c80b539d928e",
            "value": " 436k/436k [00:00&lt;00:00, 7.95MB/s]"
          }
        },
        "47871d923f7a475f919939aaf8659637": {
          "model_module": "@jupyter-widgets/base",
          "model_name": "LayoutModel",
          "model_module_version": "1.2.0",
          "state": {
            "_model_module": "@jupyter-widgets/base",
            "_model_module_version": "1.2.0",
            "_model_name": "LayoutModel",
            "_view_count": null,
            "_view_module": "@jupyter-widgets/base",
            "_view_module_version": "1.2.0",
            "_view_name": "LayoutView",
            "align_content": null,
            "align_items": null,
            "align_self": null,
            "border": null,
            "bottom": null,
            "display": null,
            "flex": null,
            "flex_flow": null,
            "grid_area": null,
            "grid_auto_columns": null,
            "grid_auto_flow": null,
            "grid_auto_rows": null,
            "grid_column": null,
            "grid_gap": null,
            "grid_row": null,
            "grid_template_areas": null,
            "grid_template_columns": null,
            "grid_template_rows": null,
            "height": null,
            "justify_content": null,
            "justify_items": null,
            "left": null,
            "margin": null,
            "max_height": null,
            "max_width": null,
            "min_height": null,
            "min_width": null,
            "object_fit": null,
            "object_position": null,
            "order": null,
            "overflow": null,
            "overflow_x": null,
            "overflow_y": null,
            "padding": null,
            "right": null,
            "top": null,
            "visibility": null,
            "width": null
          }
        },
        "a82e97dd332d43d4a7e4924b464a54aa": {
          "model_module": "@jupyter-widgets/base",
          "model_name": "LayoutModel",
          "model_module_version": "1.2.0",
          "state": {
            "_model_module": "@jupyter-widgets/base",
            "_model_module_version": "1.2.0",
            "_model_name": "LayoutModel",
            "_view_count": null,
            "_view_module": "@jupyter-widgets/base",
            "_view_module_version": "1.2.0",
            "_view_name": "LayoutView",
            "align_content": null,
            "align_items": null,
            "align_self": null,
            "border": null,
            "bottom": null,
            "display": null,
            "flex": null,
            "flex_flow": null,
            "grid_area": null,
            "grid_auto_columns": null,
            "grid_auto_flow": null,
            "grid_auto_rows": null,
            "grid_column": null,
            "grid_gap": null,
            "grid_row": null,
            "grid_template_areas": null,
            "grid_template_columns": null,
            "grid_template_rows": null,
            "height": null,
            "justify_content": null,
            "justify_items": null,
            "left": null,
            "margin": null,
            "max_height": null,
            "max_width": null,
            "min_height": null,
            "min_width": null,
            "object_fit": null,
            "object_position": null,
            "order": null,
            "overflow": null,
            "overflow_x": null,
            "overflow_y": null,
            "padding": null,
            "right": null,
            "top": null,
            "visibility": null,
            "width": null
          }
        },
        "eff9eb082c894f0184c052f98e3d6ffc": {
          "model_module": "@jupyter-widgets/controls",
          "model_name": "DescriptionStyleModel",
          "model_module_version": "1.5.0",
          "state": {
            "_model_module": "@jupyter-widgets/controls",
            "_model_module_version": "1.5.0",
            "_model_name": "DescriptionStyleModel",
            "_view_count": null,
            "_view_module": "@jupyter-widgets/base",
            "_view_module_version": "1.2.0",
            "_view_name": "StyleView",
            "description_width": ""
          }
        },
        "93766d8d1aa84cfe9f69de3186378a16": {
          "model_module": "@jupyter-widgets/base",
          "model_name": "LayoutModel",
          "model_module_version": "1.2.0",
          "state": {
            "_model_module": "@jupyter-widgets/base",
            "_model_module_version": "1.2.0",
            "_model_name": "LayoutModel",
            "_view_count": null,
            "_view_module": "@jupyter-widgets/base",
            "_view_module_version": "1.2.0",
            "_view_name": "LayoutView",
            "align_content": null,
            "align_items": null,
            "align_self": null,
            "border": null,
            "bottom": null,
            "display": null,
            "flex": null,
            "flex_flow": null,
            "grid_area": null,
            "grid_auto_columns": null,
            "grid_auto_flow": null,
            "grid_auto_rows": null,
            "grid_column": null,
            "grid_gap": null,
            "grid_row": null,
            "grid_template_areas": null,
            "grid_template_columns": null,
            "grid_template_rows": null,
            "height": null,
            "justify_content": null,
            "justify_items": null,
            "left": null,
            "margin": null,
            "max_height": null,
            "max_width": null,
            "min_height": null,
            "min_width": null,
            "object_fit": null,
            "object_position": null,
            "order": null,
            "overflow": null,
            "overflow_x": null,
            "overflow_y": null,
            "padding": null,
            "right": null,
            "top": null,
            "visibility": null,
            "width": null
          }
        },
        "e304a28534cc4af5953ec86338d5ab1f": {
          "model_module": "@jupyter-widgets/controls",
          "model_name": "ProgressStyleModel",
          "model_module_version": "1.5.0",
          "state": {
            "_model_module": "@jupyter-widgets/controls",
            "_model_module_version": "1.5.0",
            "_model_name": "ProgressStyleModel",
            "_view_count": null,
            "_view_module": "@jupyter-widgets/base",
            "_view_module_version": "1.2.0",
            "_view_name": "StyleView",
            "bar_color": null,
            "description_width": ""
          }
        },
        "48ace86caf014a368d3dd2956133117f": {
          "model_module": "@jupyter-widgets/base",
          "model_name": "LayoutModel",
          "model_module_version": "1.2.0",
          "state": {
            "_model_module": "@jupyter-widgets/base",
            "_model_module_version": "1.2.0",
            "_model_name": "LayoutModel",
            "_view_count": null,
            "_view_module": "@jupyter-widgets/base",
            "_view_module_version": "1.2.0",
            "_view_name": "LayoutView",
            "align_content": null,
            "align_items": null,
            "align_self": null,
            "border": null,
            "bottom": null,
            "display": null,
            "flex": null,
            "flex_flow": null,
            "grid_area": null,
            "grid_auto_columns": null,
            "grid_auto_flow": null,
            "grid_auto_rows": null,
            "grid_column": null,
            "grid_gap": null,
            "grid_row": null,
            "grid_template_areas": null,
            "grid_template_columns": null,
            "grid_template_rows": null,
            "height": null,
            "justify_content": null,
            "justify_items": null,
            "left": null,
            "margin": null,
            "max_height": null,
            "max_width": null,
            "min_height": null,
            "min_width": null,
            "object_fit": null,
            "object_position": null,
            "order": null,
            "overflow": null,
            "overflow_x": null,
            "overflow_y": null,
            "padding": null,
            "right": null,
            "top": null,
            "visibility": null,
            "width": null
          }
        },
        "937c0015d12e4f8b8793c80b539d928e": {
          "model_module": "@jupyter-widgets/controls",
          "model_name": "DescriptionStyleModel",
          "model_module_version": "1.5.0",
          "state": {
            "_model_module": "@jupyter-widgets/controls",
            "_model_module_version": "1.5.0",
            "_model_name": "DescriptionStyleModel",
            "_view_count": null,
            "_view_module": "@jupyter-widgets/base",
            "_view_module_version": "1.2.0",
            "_view_name": "StyleView",
            "description_width": ""
          }
        },
        "5b5715023eed4de282db082e46f8db48": {
          "model_module": "@jupyter-widgets/controls",
          "model_name": "HBoxModel",
          "model_module_version": "1.5.0",
          "state": {
            "_dom_classes": [],
            "_model_module": "@jupyter-widgets/controls",
            "_model_module_version": "1.5.0",
            "_model_name": "HBoxModel",
            "_view_count": null,
            "_view_module": "@jupyter-widgets/controls",
            "_view_module_version": "1.5.0",
            "_view_name": "HBoxView",
            "box_style": "",
            "children": [
              "IPY_MODEL_3594aa34a653443681875436ce4bc1f2",
              "IPY_MODEL_edd90e517ad942d598595d47520a8fa7",
              "IPY_MODEL_cb204a1afc454be9b0e94b0ad5ce1e6e"
            ],
            "layout": "IPY_MODEL_bdfdab055ad64307b2d4f9341ad2f4a7"
          }
        },
        "3594aa34a653443681875436ce4bc1f2": {
          "model_module": "@jupyter-widgets/controls",
          "model_name": "HTMLModel",
          "model_module_version": "1.5.0",
          "state": {
            "_dom_classes": [],
            "_model_module": "@jupyter-widgets/controls",
            "_model_module_version": "1.5.0",
            "_model_name": "HTMLModel",
            "_view_count": null,
            "_view_module": "@jupyter-widgets/controls",
            "_view_module_version": "1.5.0",
            "_view_name": "HTMLView",
            "description": "",
            "description_tooltip": null,
            "layout": "IPY_MODEL_1045555373a04a1b8b56278b775f3411",
            "placeholder": "​",
            "style": "IPY_MODEL_4620d55d76584e24a3233718fe204c65",
            "value": "tokenizer_config.json: 100%"
          }
        },
        "edd90e517ad942d598595d47520a8fa7": {
          "model_module": "@jupyter-widgets/controls",
          "model_name": "FloatProgressModel",
          "model_module_version": "1.5.0",
          "state": {
            "_dom_classes": [],
            "_model_module": "@jupyter-widgets/controls",
            "_model_module_version": "1.5.0",
            "_model_name": "FloatProgressModel",
            "_view_count": null,
            "_view_module": "@jupyter-widgets/controls",
            "_view_module_version": "1.5.0",
            "_view_name": "ProgressView",
            "bar_style": "success",
            "description": "",
            "description_tooltip": null,
            "layout": "IPY_MODEL_e8e6f00c1111438fb6923d72dd313b20",
            "max": 48,
            "min": 0,
            "orientation": "horizontal",
            "style": "IPY_MODEL_2df0551cf4ce47aeb9ff1526a3e91169",
            "value": 48
          }
        },
        "cb204a1afc454be9b0e94b0ad5ce1e6e": {
          "model_module": "@jupyter-widgets/controls",
          "model_name": "HTMLModel",
          "model_module_version": "1.5.0",
          "state": {
            "_dom_classes": [],
            "_model_module": "@jupyter-widgets/controls",
            "_model_module_version": "1.5.0",
            "_model_name": "HTMLModel",
            "_view_count": null,
            "_view_module": "@jupyter-widgets/controls",
            "_view_module_version": "1.5.0",
            "_view_name": "HTMLView",
            "description": "",
            "description_tooltip": null,
            "layout": "IPY_MODEL_e772803aea8c4092afff2e9e4356ed49",
            "placeholder": "​",
            "style": "IPY_MODEL_592cf626e87a47bdb0add9826ba9f79b",
            "value": " 48.0/48.0 [00:00&lt;00:00, 3.41kB/s]"
          }
        },
        "bdfdab055ad64307b2d4f9341ad2f4a7": {
          "model_module": "@jupyter-widgets/base",
          "model_name": "LayoutModel",
          "model_module_version": "1.2.0",
          "state": {
            "_model_module": "@jupyter-widgets/base",
            "_model_module_version": "1.2.0",
            "_model_name": "LayoutModel",
            "_view_count": null,
            "_view_module": "@jupyter-widgets/base",
            "_view_module_version": "1.2.0",
            "_view_name": "LayoutView",
            "align_content": null,
            "align_items": null,
            "align_self": null,
            "border": null,
            "bottom": null,
            "display": null,
            "flex": null,
            "flex_flow": null,
            "grid_area": null,
            "grid_auto_columns": null,
            "grid_auto_flow": null,
            "grid_auto_rows": null,
            "grid_column": null,
            "grid_gap": null,
            "grid_row": null,
            "grid_template_areas": null,
            "grid_template_columns": null,
            "grid_template_rows": null,
            "height": null,
            "justify_content": null,
            "justify_items": null,
            "left": null,
            "margin": null,
            "max_height": null,
            "max_width": null,
            "min_height": null,
            "min_width": null,
            "object_fit": null,
            "object_position": null,
            "order": null,
            "overflow": null,
            "overflow_x": null,
            "overflow_y": null,
            "padding": null,
            "right": null,
            "top": null,
            "visibility": null,
            "width": null
          }
        },
        "1045555373a04a1b8b56278b775f3411": {
          "model_module": "@jupyter-widgets/base",
          "model_name": "LayoutModel",
          "model_module_version": "1.2.0",
          "state": {
            "_model_module": "@jupyter-widgets/base",
            "_model_module_version": "1.2.0",
            "_model_name": "LayoutModel",
            "_view_count": null,
            "_view_module": "@jupyter-widgets/base",
            "_view_module_version": "1.2.0",
            "_view_name": "LayoutView",
            "align_content": null,
            "align_items": null,
            "align_self": null,
            "border": null,
            "bottom": null,
            "display": null,
            "flex": null,
            "flex_flow": null,
            "grid_area": null,
            "grid_auto_columns": null,
            "grid_auto_flow": null,
            "grid_auto_rows": null,
            "grid_column": null,
            "grid_gap": null,
            "grid_row": null,
            "grid_template_areas": null,
            "grid_template_columns": null,
            "grid_template_rows": null,
            "height": null,
            "justify_content": null,
            "justify_items": null,
            "left": null,
            "margin": null,
            "max_height": null,
            "max_width": null,
            "min_height": null,
            "min_width": null,
            "object_fit": null,
            "object_position": null,
            "order": null,
            "overflow": null,
            "overflow_x": null,
            "overflow_y": null,
            "padding": null,
            "right": null,
            "top": null,
            "visibility": null,
            "width": null
          }
        },
        "4620d55d76584e24a3233718fe204c65": {
          "model_module": "@jupyter-widgets/controls",
          "model_name": "DescriptionStyleModel",
          "model_module_version": "1.5.0",
          "state": {
            "_model_module": "@jupyter-widgets/controls",
            "_model_module_version": "1.5.0",
            "_model_name": "DescriptionStyleModel",
            "_view_count": null,
            "_view_module": "@jupyter-widgets/base",
            "_view_module_version": "1.2.0",
            "_view_name": "StyleView",
            "description_width": ""
          }
        },
        "e8e6f00c1111438fb6923d72dd313b20": {
          "model_module": "@jupyter-widgets/base",
          "model_name": "LayoutModel",
          "model_module_version": "1.2.0",
          "state": {
            "_model_module": "@jupyter-widgets/base",
            "_model_module_version": "1.2.0",
            "_model_name": "LayoutModel",
            "_view_count": null,
            "_view_module": "@jupyter-widgets/base",
            "_view_module_version": "1.2.0",
            "_view_name": "LayoutView",
            "align_content": null,
            "align_items": null,
            "align_self": null,
            "border": null,
            "bottom": null,
            "display": null,
            "flex": null,
            "flex_flow": null,
            "grid_area": null,
            "grid_auto_columns": null,
            "grid_auto_flow": null,
            "grid_auto_rows": null,
            "grid_column": null,
            "grid_gap": null,
            "grid_row": null,
            "grid_template_areas": null,
            "grid_template_columns": null,
            "grid_template_rows": null,
            "height": null,
            "justify_content": null,
            "justify_items": null,
            "left": null,
            "margin": null,
            "max_height": null,
            "max_width": null,
            "min_height": null,
            "min_width": null,
            "object_fit": null,
            "object_position": null,
            "order": null,
            "overflow": null,
            "overflow_x": null,
            "overflow_y": null,
            "padding": null,
            "right": null,
            "top": null,
            "visibility": null,
            "width": null
          }
        },
        "2df0551cf4ce47aeb9ff1526a3e91169": {
          "model_module": "@jupyter-widgets/controls",
          "model_name": "ProgressStyleModel",
          "model_module_version": "1.5.0",
          "state": {
            "_model_module": "@jupyter-widgets/controls",
            "_model_module_version": "1.5.0",
            "_model_name": "ProgressStyleModel",
            "_view_count": null,
            "_view_module": "@jupyter-widgets/base",
            "_view_module_version": "1.2.0",
            "_view_name": "StyleView",
            "bar_color": null,
            "description_width": ""
          }
        },
        "e772803aea8c4092afff2e9e4356ed49": {
          "model_module": "@jupyter-widgets/base",
          "model_name": "LayoutModel",
          "model_module_version": "1.2.0",
          "state": {
            "_model_module": "@jupyter-widgets/base",
            "_model_module_version": "1.2.0",
            "_model_name": "LayoutModel",
            "_view_count": null,
            "_view_module": "@jupyter-widgets/base",
            "_view_module_version": "1.2.0",
            "_view_name": "LayoutView",
            "align_content": null,
            "align_items": null,
            "align_self": null,
            "border": null,
            "bottom": null,
            "display": null,
            "flex": null,
            "flex_flow": null,
            "grid_area": null,
            "grid_auto_columns": null,
            "grid_auto_flow": null,
            "grid_auto_rows": null,
            "grid_column": null,
            "grid_gap": null,
            "grid_row": null,
            "grid_template_areas": null,
            "grid_template_columns": null,
            "grid_template_rows": null,
            "height": null,
            "justify_content": null,
            "justify_items": null,
            "left": null,
            "margin": null,
            "max_height": null,
            "max_width": null,
            "min_height": null,
            "min_width": null,
            "object_fit": null,
            "object_position": null,
            "order": null,
            "overflow": null,
            "overflow_x": null,
            "overflow_y": null,
            "padding": null,
            "right": null,
            "top": null,
            "visibility": null,
            "width": null
          }
        },
        "592cf626e87a47bdb0add9826ba9f79b": {
          "model_module": "@jupyter-widgets/controls",
          "model_name": "DescriptionStyleModel",
          "model_module_version": "1.5.0",
          "state": {
            "_model_module": "@jupyter-widgets/controls",
            "_model_module_version": "1.5.0",
            "_model_name": "DescriptionStyleModel",
            "_view_count": null,
            "_view_module": "@jupyter-widgets/base",
            "_view_module_version": "1.2.0",
            "_view_name": "StyleView",
            "description_width": ""
          }
        },
        "03400a9e7faa486899afe7e7449f27f3": {
          "model_module": "@jupyter-widgets/controls",
          "model_name": "HBoxModel",
          "model_module_version": "1.5.0",
          "state": {
            "_dom_classes": [],
            "_model_module": "@jupyter-widgets/controls",
            "_model_module_version": "1.5.0",
            "_model_name": "HBoxModel",
            "_view_count": null,
            "_view_module": "@jupyter-widgets/controls",
            "_view_module_version": "1.5.0",
            "_view_name": "HBoxView",
            "box_style": "",
            "children": [
              "IPY_MODEL_d48858ea90fb4d93af5b4fe72e806445",
              "IPY_MODEL_f88e22b5edd24650a6d0a83bb1e122cd",
              "IPY_MODEL_b27c70c5c7514aa68e81c9be657a7859"
            ],
            "layout": "IPY_MODEL_7ed4f7600c4943c59198d8c29114e90c"
          }
        },
        "d48858ea90fb4d93af5b4fe72e806445": {
          "model_module": "@jupyter-widgets/controls",
          "model_name": "HTMLModel",
          "model_module_version": "1.5.0",
          "state": {
            "_dom_classes": [],
            "_model_module": "@jupyter-widgets/controls",
            "_model_module_version": "1.5.0",
            "_model_name": "HTMLModel",
            "_view_count": null,
            "_view_module": "@jupyter-widgets/controls",
            "_view_module_version": "1.5.0",
            "_view_name": "HTMLView",
            "description": "",
            "description_tooltip": null,
            "layout": "IPY_MODEL_69b44cfb2d5b48608da6d3e4ada7a583",
            "placeholder": "​",
            "style": "IPY_MODEL_2eeef8d0d4de4ddd825af7fc9a437e5c",
            "value": "vocab.txt: 100%"
          }
        },
        "f88e22b5edd24650a6d0a83bb1e122cd": {
          "model_module": "@jupyter-widgets/controls",
          "model_name": "FloatProgressModel",
          "model_module_version": "1.5.0",
          "state": {
            "_dom_classes": [],
            "_model_module": "@jupyter-widgets/controls",
            "_model_module_version": "1.5.0",
            "_model_name": "FloatProgressModel",
            "_view_count": null,
            "_view_module": "@jupyter-widgets/controls",
            "_view_module_version": "1.5.0",
            "_view_name": "ProgressView",
            "bar_style": "success",
            "description": "",
            "description_tooltip": null,
            "layout": "IPY_MODEL_e9af1158264f49df8f325e8222988677",
            "max": 231508,
            "min": 0,
            "orientation": "horizontal",
            "style": "IPY_MODEL_bf8c1d8ff0b649e1a89c55d1fe3a5ac2",
            "value": 231508
          }
        },
        "b27c70c5c7514aa68e81c9be657a7859": {
          "model_module": "@jupyter-widgets/controls",
          "model_name": "HTMLModel",
          "model_module_version": "1.5.0",
          "state": {
            "_dom_classes": [],
            "_model_module": "@jupyter-widgets/controls",
            "_model_module_version": "1.5.0",
            "_model_name": "HTMLModel",
            "_view_count": null,
            "_view_module": "@jupyter-widgets/controls",
            "_view_module_version": "1.5.0",
            "_view_name": "HTMLView",
            "description": "",
            "description_tooltip": null,
            "layout": "IPY_MODEL_69d20abf194a4887be8696627dc2a763",
            "placeholder": "​",
            "style": "IPY_MODEL_5559ac8540cc4cc99862069d6fc4890c",
            "value": " 232k/232k [00:00&lt;00:00, 7.50MB/s]"
          }
        },
        "7ed4f7600c4943c59198d8c29114e90c": {
          "model_module": "@jupyter-widgets/base",
          "model_name": "LayoutModel",
          "model_module_version": "1.2.0",
          "state": {
            "_model_module": "@jupyter-widgets/base",
            "_model_module_version": "1.2.0",
            "_model_name": "LayoutModel",
            "_view_count": null,
            "_view_module": "@jupyter-widgets/base",
            "_view_module_version": "1.2.0",
            "_view_name": "LayoutView",
            "align_content": null,
            "align_items": null,
            "align_self": null,
            "border": null,
            "bottom": null,
            "display": null,
            "flex": null,
            "flex_flow": null,
            "grid_area": null,
            "grid_auto_columns": null,
            "grid_auto_flow": null,
            "grid_auto_rows": null,
            "grid_column": null,
            "grid_gap": null,
            "grid_row": null,
            "grid_template_areas": null,
            "grid_template_columns": null,
            "grid_template_rows": null,
            "height": null,
            "justify_content": null,
            "justify_items": null,
            "left": null,
            "margin": null,
            "max_height": null,
            "max_width": null,
            "min_height": null,
            "min_width": null,
            "object_fit": null,
            "object_position": null,
            "order": null,
            "overflow": null,
            "overflow_x": null,
            "overflow_y": null,
            "padding": null,
            "right": null,
            "top": null,
            "visibility": null,
            "width": null
          }
        },
        "69b44cfb2d5b48608da6d3e4ada7a583": {
          "model_module": "@jupyter-widgets/base",
          "model_name": "LayoutModel",
          "model_module_version": "1.2.0",
          "state": {
            "_model_module": "@jupyter-widgets/base",
            "_model_module_version": "1.2.0",
            "_model_name": "LayoutModel",
            "_view_count": null,
            "_view_module": "@jupyter-widgets/base",
            "_view_module_version": "1.2.0",
            "_view_name": "LayoutView",
            "align_content": null,
            "align_items": null,
            "align_self": null,
            "border": null,
            "bottom": null,
            "display": null,
            "flex": null,
            "flex_flow": null,
            "grid_area": null,
            "grid_auto_columns": null,
            "grid_auto_flow": null,
            "grid_auto_rows": null,
            "grid_column": null,
            "grid_gap": null,
            "grid_row": null,
            "grid_template_areas": null,
            "grid_template_columns": null,
            "grid_template_rows": null,
            "height": null,
            "justify_content": null,
            "justify_items": null,
            "left": null,
            "margin": null,
            "max_height": null,
            "max_width": null,
            "min_height": null,
            "min_width": null,
            "object_fit": null,
            "object_position": null,
            "order": null,
            "overflow": null,
            "overflow_x": null,
            "overflow_y": null,
            "padding": null,
            "right": null,
            "top": null,
            "visibility": null,
            "width": null
          }
        },
        "2eeef8d0d4de4ddd825af7fc9a437e5c": {
          "model_module": "@jupyter-widgets/controls",
          "model_name": "DescriptionStyleModel",
          "model_module_version": "1.5.0",
          "state": {
            "_model_module": "@jupyter-widgets/controls",
            "_model_module_version": "1.5.0",
            "_model_name": "DescriptionStyleModel",
            "_view_count": null,
            "_view_module": "@jupyter-widgets/base",
            "_view_module_version": "1.2.0",
            "_view_name": "StyleView",
            "description_width": ""
          }
        },
        "e9af1158264f49df8f325e8222988677": {
          "model_module": "@jupyter-widgets/base",
          "model_name": "LayoutModel",
          "model_module_version": "1.2.0",
          "state": {
            "_model_module": "@jupyter-widgets/base",
            "_model_module_version": "1.2.0",
            "_model_name": "LayoutModel",
            "_view_count": null,
            "_view_module": "@jupyter-widgets/base",
            "_view_module_version": "1.2.0",
            "_view_name": "LayoutView",
            "align_content": null,
            "align_items": null,
            "align_self": null,
            "border": null,
            "bottom": null,
            "display": null,
            "flex": null,
            "flex_flow": null,
            "grid_area": null,
            "grid_auto_columns": null,
            "grid_auto_flow": null,
            "grid_auto_rows": null,
            "grid_column": null,
            "grid_gap": null,
            "grid_row": null,
            "grid_template_areas": null,
            "grid_template_columns": null,
            "grid_template_rows": null,
            "height": null,
            "justify_content": null,
            "justify_items": null,
            "left": null,
            "margin": null,
            "max_height": null,
            "max_width": null,
            "min_height": null,
            "min_width": null,
            "object_fit": null,
            "object_position": null,
            "order": null,
            "overflow": null,
            "overflow_x": null,
            "overflow_y": null,
            "padding": null,
            "right": null,
            "top": null,
            "visibility": null,
            "width": null
          }
        },
        "bf8c1d8ff0b649e1a89c55d1fe3a5ac2": {
          "model_module": "@jupyter-widgets/controls",
          "model_name": "ProgressStyleModel",
          "model_module_version": "1.5.0",
          "state": {
            "_model_module": "@jupyter-widgets/controls",
            "_model_module_version": "1.5.0",
            "_model_name": "ProgressStyleModel",
            "_view_count": null,
            "_view_module": "@jupyter-widgets/base",
            "_view_module_version": "1.2.0",
            "_view_name": "StyleView",
            "bar_color": null,
            "description_width": ""
          }
        },
        "69d20abf194a4887be8696627dc2a763": {
          "model_module": "@jupyter-widgets/base",
          "model_name": "LayoutModel",
          "model_module_version": "1.2.0",
          "state": {
            "_model_module": "@jupyter-widgets/base",
            "_model_module_version": "1.2.0",
            "_model_name": "LayoutModel",
            "_view_count": null,
            "_view_module": "@jupyter-widgets/base",
            "_view_module_version": "1.2.0",
            "_view_name": "LayoutView",
            "align_content": null,
            "align_items": null,
            "align_self": null,
            "border": null,
            "bottom": null,
            "display": null,
            "flex": null,
            "flex_flow": null,
            "grid_area": null,
            "grid_auto_columns": null,
            "grid_auto_flow": null,
            "grid_auto_rows": null,
            "grid_column": null,
            "grid_gap": null,
            "grid_row": null,
            "grid_template_areas": null,
            "grid_template_columns": null,
            "grid_template_rows": null,
            "height": null,
            "justify_content": null,
            "justify_items": null,
            "left": null,
            "margin": null,
            "max_height": null,
            "max_width": null,
            "min_height": null,
            "min_width": null,
            "object_fit": null,
            "object_position": null,
            "order": null,
            "overflow": null,
            "overflow_x": null,
            "overflow_y": null,
            "padding": null,
            "right": null,
            "top": null,
            "visibility": null,
            "width": null
          }
        },
        "5559ac8540cc4cc99862069d6fc4890c": {
          "model_module": "@jupyter-widgets/controls",
          "model_name": "DescriptionStyleModel",
          "model_module_version": "1.5.0",
          "state": {
            "_model_module": "@jupyter-widgets/controls",
            "_model_module_version": "1.5.0",
            "_model_name": "DescriptionStyleModel",
            "_view_count": null,
            "_view_module": "@jupyter-widgets/base",
            "_view_module_version": "1.2.0",
            "_view_name": "StyleView",
            "description_width": ""
          }
        },
        "6e9d0809f5394f119bb0071344e3f578": {
          "model_module": "@jupyter-widgets/controls",
          "model_name": "HBoxModel",
          "model_module_version": "1.5.0",
          "state": {
            "_dom_classes": [],
            "_model_module": "@jupyter-widgets/controls",
            "_model_module_version": "1.5.0",
            "_model_name": "HBoxModel",
            "_view_count": null,
            "_view_module": "@jupyter-widgets/controls",
            "_view_module_version": "1.5.0",
            "_view_name": "HBoxView",
            "box_style": "",
            "children": [
              "IPY_MODEL_24fc6cf67d82412f8021d324f7029001",
              "IPY_MODEL_da9734d695e44ed18b4678f9e75ffcd6",
              "IPY_MODEL_057de456163b4ee099bb68d91b57e45a"
            ],
            "layout": "IPY_MODEL_dbf6c5554cbe447a97c733170ead5ab8"
          }
        },
        "24fc6cf67d82412f8021d324f7029001": {
          "model_module": "@jupyter-widgets/controls",
          "model_name": "HTMLModel",
          "model_module_version": "1.5.0",
          "state": {
            "_dom_classes": [],
            "_model_module": "@jupyter-widgets/controls",
            "_model_module_version": "1.5.0",
            "_model_name": "HTMLModel",
            "_view_count": null,
            "_view_module": "@jupyter-widgets/controls",
            "_view_module_version": "1.5.0",
            "_view_name": "HTMLView",
            "description": "",
            "description_tooltip": null,
            "layout": "IPY_MODEL_27ef86af061d46c28562411de3165068",
            "placeholder": "​",
            "style": "IPY_MODEL_91c14df0a2cd4208a441efd2837ef9fb",
            "value": "config.json: 100%"
          }
        },
        "da9734d695e44ed18b4678f9e75ffcd6": {
          "model_module": "@jupyter-widgets/controls",
          "model_name": "FloatProgressModel",
          "model_module_version": "1.5.0",
          "state": {
            "_dom_classes": [],
            "_model_module": "@jupyter-widgets/controls",
            "_model_module_version": "1.5.0",
            "_model_name": "FloatProgressModel",
            "_view_count": null,
            "_view_module": "@jupyter-widgets/controls",
            "_view_module_version": "1.5.0",
            "_view_name": "ProgressView",
            "bar_style": "success",
            "description": "",
            "description_tooltip": null,
            "layout": "IPY_MODEL_5f0e871da8a448f1843a0d8e7ce23661",
            "max": 570,
            "min": 0,
            "orientation": "horizontal",
            "style": "IPY_MODEL_f42416d6b5e3400d9cad2a6c0c8dd864",
            "value": 570
          }
        },
        "057de456163b4ee099bb68d91b57e45a": {
          "model_module": "@jupyter-widgets/controls",
          "model_name": "HTMLModel",
          "model_module_version": "1.5.0",
          "state": {
            "_dom_classes": [],
            "_model_module": "@jupyter-widgets/controls",
            "_model_module_version": "1.5.0",
            "_model_name": "HTMLModel",
            "_view_count": null,
            "_view_module": "@jupyter-widgets/controls",
            "_view_module_version": "1.5.0",
            "_view_name": "HTMLView",
            "description": "",
            "description_tooltip": null,
            "layout": "IPY_MODEL_9b5f958792924439b4638e290fd1f6a4",
            "placeholder": "​",
            "style": "IPY_MODEL_1e5c64755e594459b2979bf89f1ca364",
            "value": " 570/570 [00:00&lt;00:00, 39.8kB/s]"
          }
        },
        "dbf6c5554cbe447a97c733170ead5ab8": {
          "model_module": "@jupyter-widgets/base",
          "model_name": "LayoutModel",
          "model_module_version": "1.2.0",
          "state": {
            "_model_module": "@jupyter-widgets/base",
            "_model_module_version": "1.2.0",
            "_model_name": "LayoutModel",
            "_view_count": null,
            "_view_module": "@jupyter-widgets/base",
            "_view_module_version": "1.2.0",
            "_view_name": "LayoutView",
            "align_content": null,
            "align_items": null,
            "align_self": null,
            "border": null,
            "bottom": null,
            "display": null,
            "flex": null,
            "flex_flow": null,
            "grid_area": null,
            "grid_auto_columns": null,
            "grid_auto_flow": null,
            "grid_auto_rows": null,
            "grid_column": null,
            "grid_gap": null,
            "grid_row": null,
            "grid_template_areas": null,
            "grid_template_columns": null,
            "grid_template_rows": null,
            "height": null,
            "justify_content": null,
            "justify_items": null,
            "left": null,
            "margin": null,
            "max_height": null,
            "max_width": null,
            "min_height": null,
            "min_width": null,
            "object_fit": null,
            "object_position": null,
            "order": null,
            "overflow": null,
            "overflow_x": null,
            "overflow_y": null,
            "padding": null,
            "right": null,
            "top": null,
            "visibility": null,
            "width": null
          }
        },
        "27ef86af061d46c28562411de3165068": {
          "model_module": "@jupyter-widgets/base",
          "model_name": "LayoutModel",
          "model_module_version": "1.2.0",
          "state": {
            "_model_module": "@jupyter-widgets/base",
            "_model_module_version": "1.2.0",
            "_model_name": "LayoutModel",
            "_view_count": null,
            "_view_module": "@jupyter-widgets/base",
            "_view_module_version": "1.2.0",
            "_view_name": "LayoutView",
            "align_content": null,
            "align_items": null,
            "align_self": null,
            "border": null,
            "bottom": null,
            "display": null,
            "flex": null,
            "flex_flow": null,
            "grid_area": null,
            "grid_auto_columns": null,
            "grid_auto_flow": null,
            "grid_auto_rows": null,
            "grid_column": null,
            "grid_gap": null,
            "grid_row": null,
            "grid_template_areas": null,
            "grid_template_columns": null,
            "grid_template_rows": null,
            "height": null,
            "justify_content": null,
            "justify_items": null,
            "left": null,
            "margin": null,
            "max_height": null,
            "max_width": null,
            "min_height": null,
            "min_width": null,
            "object_fit": null,
            "object_position": null,
            "order": null,
            "overflow": null,
            "overflow_x": null,
            "overflow_y": null,
            "padding": null,
            "right": null,
            "top": null,
            "visibility": null,
            "width": null
          }
        },
        "91c14df0a2cd4208a441efd2837ef9fb": {
          "model_module": "@jupyter-widgets/controls",
          "model_name": "DescriptionStyleModel",
          "model_module_version": "1.5.0",
          "state": {
            "_model_module": "@jupyter-widgets/controls",
            "_model_module_version": "1.5.0",
            "_model_name": "DescriptionStyleModel",
            "_view_count": null,
            "_view_module": "@jupyter-widgets/base",
            "_view_module_version": "1.2.0",
            "_view_name": "StyleView",
            "description_width": ""
          }
        },
        "5f0e871da8a448f1843a0d8e7ce23661": {
          "model_module": "@jupyter-widgets/base",
          "model_name": "LayoutModel",
          "model_module_version": "1.2.0",
          "state": {
            "_model_module": "@jupyter-widgets/base",
            "_model_module_version": "1.2.0",
            "_model_name": "LayoutModel",
            "_view_count": null,
            "_view_module": "@jupyter-widgets/base",
            "_view_module_version": "1.2.0",
            "_view_name": "LayoutView",
            "align_content": null,
            "align_items": null,
            "align_self": null,
            "border": null,
            "bottom": null,
            "display": null,
            "flex": null,
            "flex_flow": null,
            "grid_area": null,
            "grid_auto_columns": null,
            "grid_auto_flow": null,
            "grid_auto_rows": null,
            "grid_column": null,
            "grid_gap": null,
            "grid_row": null,
            "grid_template_areas": null,
            "grid_template_columns": null,
            "grid_template_rows": null,
            "height": null,
            "justify_content": null,
            "justify_items": null,
            "left": null,
            "margin": null,
            "max_height": null,
            "max_width": null,
            "min_height": null,
            "min_width": null,
            "object_fit": null,
            "object_position": null,
            "order": null,
            "overflow": null,
            "overflow_x": null,
            "overflow_y": null,
            "padding": null,
            "right": null,
            "top": null,
            "visibility": null,
            "width": null
          }
        },
        "f42416d6b5e3400d9cad2a6c0c8dd864": {
          "model_module": "@jupyter-widgets/controls",
          "model_name": "ProgressStyleModel",
          "model_module_version": "1.5.0",
          "state": {
            "_model_module": "@jupyter-widgets/controls",
            "_model_module_version": "1.5.0",
            "_model_name": "ProgressStyleModel",
            "_view_count": null,
            "_view_module": "@jupyter-widgets/base",
            "_view_module_version": "1.2.0",
            "_view_name": "StyleView",
            "bar_color": null,
            "description_width": ""
          }
        },
        "9b5f958792924439b4638e290fd1f6a4": {
          "model_module": "@jupyter-widgets/base",
          "model_name": "LayoutModel",
          "model_module_version": "1.2.0",
          "state": {
            "_model_module": "@jupyter-widgets/base",
            "_model_module_version": "1.2.0",
            "_model_name": "LayoutModel",
            "_view_count": null,
            "_view_module": "@jupyter-widgets/base",
            "_view_module_version": "1.2.0",
            "_view_name": "LayoutView",
            "align_content": null,
            "align_items": null,
            "align_self": null,
            "border": null,
            "bottom": null,
            "display": null,
            "flex": null,
            "flex_flow": null,
            "grid_area": null,
            "grid_auto_columns": null,
            "grid_auto_flow": null,
            "grid_auto_rows": null,
            "grid_column": null,
            "grid_gap": null,
            "grid_row": null,
            "grid_template_areas": null,
            "grid_template_columns": null,
            "grid_template_rows": null,
            "height": null,
            "justify_content": null,
            "justify_items": null,
            "left": null,
            "margin": null,
            "max_height": null,
            "max_width": null,
            "min_height": null,
            "min_width": null,
            "object_fit": null,
            "object_position": null,
            "order": null,
            "overflow": null,
            "overflow_x": null,
            "overflow_y": null,
            "padding": null,
            "right": null,
            "top": null,
            "visibility": null,
            "width": null
          }
        },
        "1e5c64755e594459b2979bf89f1ca364": {
          "model_module": "@jupyter-widgets/controls",
          "model_name": "DescriptionStyleModel",
          "model_module_version": "1.5.0",
          "state": {
            "_model_module": "@jupyter-widgets/controls",
            "_model_module_version": "1.5.0",
            "_model_name": "DescriptionStyleModel",
            "_view_count": null,
            "_view_module": "@jupyter-widgets/base",
            "_view_module_version": "1.2.0",
            "_view_name": "StyleView",
            "description_width": ""
          }
        },
        "b9fc7242c9fd4401af5404741abf8f96": {
          "model_module": "@jupyter-widgets/controls",
          "model_name": "HBoxModel",
          "model_module_version": "1.5.0",
          "state": {
            "_dom_classes": [],
            "_model_module": "@jupyter-widgets/controls",
            "_model_module_version": "1.5.0",
            "_model_name": "HBoxModel",
            "_view_count": null,
            "_view_module": "@jupyter-widgets/controls",
            "_view_module_version": "1.5.0",
            "_view_name": "HBoxView",
            "box_style": "",
            "children": [
              "IPY_MODEL_8696b0eda130481ea406d9b6875c507a",
              "IPY_MODEL_6289cf675eb04ccab972cc1779b86629",
              "IPY_MODEL_8527f8ef3b924e9697677c9cd6c2e10d"
            ],
            "layout": "IPY_MODEL_1253077fb0b24002a980cbdc9570d017"
          }
        },
        "8696b0eda130481ea406d9b6875c507a": {
          "model_module": "@jupyter-widgets/controls",
          "model_name": "HTMLModel",
          "model_module_version": "1.5.0",
          "state": {
            "_dom_classes": [],
            "_model_module": "@jupyter-widgets/controls",
            "_model_module_version": "1.5.0",
            "_model_name": "HTMLModel",
            "_view_count": null,
            "_view_module": "@jupyter-widgets/controls",
            "_view_module_version": "1.5.0",
            "_view_name": "HTMLView",
            "description": "",
            "description_tooltip": null,
            "layout": "IPY_MODEL_80f35dd2e40b4670a3698cb3e092179e",
            "placeholder": "​",
            "style": "IPY_MODEL_ac821c6ded824f3b901d15732f9eff80",
            "value": "model.safetensors: 100%"
          }
        },
        "6289cf675eb04ccab972cc1779b86629": {
          "model_module": "@jupyter-widgets/controls",
          "model_name": "FloatProgressModel",
          "model_module_version": "1.5.0",
          "state": {
            "_dom_classes": [],
            "_model_module": "@jupyter-widgets/controls",
            "_model_module_version": "1.5.0",
            "_model_name": "FloatProgressModel",
            "_view_count": null,
            "_view_module": "@jupyter-widgets/controls",
            "_view_module_version": "1.5.0",
            "_view_name": "ProgressView",
            "bar_style": "success",
            "description": "",
            "description_tooltip": null,
            "layout": "IPY_MODEL_7ad6bfa85c064fb4ab348e9c6e46bca1",
            "max": 435755784,
            "min": 0,
            "orientation": "horizontal",
            "style": "IPY_MODEL_696b4f1977db41358eda71ec1b295554",
            "value": 435755784
          }
        },
        "8527f8ef3b924e9697677c9cd6c2e10d": {
          "model_module": "@jupyter-widgets/controls",
          "model_name": "HTMLModel",
          "model_module_version": "1.5.0",
          "state": {
            "_dom_classes": [],
            "_model_module": "@jupyter-widgets/controls",
            "_model_module_version": "1.5.0",
            "_model_name": "HTMLModel",
            "_view_count": null,
            "_view_module": "@jupyter-widgets/controls",
            "_view_module_version": "1.5.0",
            "_view_name": "HTMLView",
            "description": "",
            "description_tooltip": null,
            "layout": "IPY_MODEL_ef88c9979b5d491eb15dcd91f21260ed",
            "placeholder": "​",
            "style": "IPY_MODEL_12371efa2dca42978d51c15ae0d472cf",
            "value": " 436M/436M [00:02&lt;00:00, 192MB/s]"
          }
        },
        "1253077fb0b24002a980cbdc9570d017": {
          "model_module": "@jupyter-widgets/base",
          "model_name": "LayoutModel",
          "model_module_version": "1.2.0",
          "state": {
            "_model_module": "@jupyter-widgets/base",
            "_model_module_version": "1.2.0",
            "_model_name": "LayoutModel",
            "_view_count": null,
            "_view_module": "@jupyter-widgets/base",
            "_view_module_version": "1.2.0",
            "_view_name": "LayoutView",
            "align_content": null,
            "align_items": null,
            "align_self": null,
            "border": null,
            "bottom": null,
            "display": null,
            "flex": null,
            "flex_flow": null,
            "grid_area": null,
            "grid_auto_columns": null,
            "grid_auto_flow": null,
            "grid_auto_rows": null,
            "grid_column": null,
            "grid_gap": null,
            "grid_row": null,
            "grid_template_areas": null,
            "grid_template_columns": null,
            "grid_template_rows": null,
            "height": null,
            "justify_content": null,
            "justify_items": null,
            "left": null,
            "margin": null,
            "max_height": null,
            "max_width": null,
            "min_height": null,
            "min_width": null,
            "object_fit": null,
            "object_position": null,
            "order": null,
            "overflow": null,
            "overflow_x": null,
            "overflow_y": null,
            "padding": null,
            "right": null,
            "top": null,
            "visibility": null,
            "width": null
          }
        },
        "80f35dd2e40b4670a3698cb3e092179e": {
          "model_module": "@jupyter-widgets/base",
          "model_name": "LayoutModel",
          "model_module_version": "1.2.0",
          "state": {
            "_model_module": "@jupyter-widgets/base",
            "_model_module_version": "1.2.0",
            "_model_name": "LayoutModel",
            "_view_count": null,
            "_view_module": "@jupyter-widgets/base",
            "_view_module_version": "1.2.0",
            "_view_name": "LayoutView",
            "align_content": null,
            "align_items": null,
            "align_self": null,
            "border": null,
            "bottom": null,
            "display": null,
            "flex": null,
            "flex_flow": null,
            "grid_area": null,
            "grid_auto_columns": null,
            "grid_auto_flow": null,
            "grid_auto_rows": null,
            "grid_column": null,
            "grid_gap": null,
            "grid_row": null,
            "grid_template_areas": null,
            "grid_template_columns": null,
            "grid_template_rows": null,
            "height": null,
            "justify_content": null,
            "justify_items": null,
            "left": null,
            "margin": null,
            "max_height": null,
            "max_width": null,
            "min_height": null,
            "min_width": null,
            "object_fit": null,
            "object_position": null,
            "order": null,
            "overflow": null,
            "overflow_x": null,
            "overflow_y": null,
            "padding": null,
            "right": null,
            "top": null,
            "visibility": null,
            "width": null
          }
        },
        "ac821c6ded824f3b901d15732f9eff80": {
          "model_module": "@jupyter-widgets/controls",
          "model_name": "DescriptionStyleModel",
          "model_module_version": "1.5.0",
          "state": {
            "_model_module": "@jupyter-widgets/controls",
            "_model_module_version": "1.5.0",
            "_model_name": "DescriptionStyleModel",
            "_view_count": null,
            "_view_module": "@jupyter-widgets/base",
            "_view_module_version": "1.2.0",
            "_view_name": "StyleView",
            "description_width": ""
          }
        },
        "7ad6bfa85c064fb4ab348e9c6e46bca1": {
          "model_module": "@jupyter-widgets/base",
          "model_name": "LayoutModel",
          "model_module_version": "1.2.0",
          "state": {
            "_model_module": "@jupyter-widgets/base",
            "_model_module_version": "1.2.0",
            "_model_name": "LayoutModel",
            "_view_count": null,
            "_view_module": "@jupyter-widgets/base",
            "_view_module_version": "1.2.0",
            "_view_name": "LayoutView",
            "align_content": null,
            "align_items": null,
            "align_self": null,
            "border": null,
            "bottom": null,
            "display": null,
            "flex": null,
            "flex_flow": null,
            "grid_area": null,
            "grid_auto_columns": null,
            "grid_auto_flow": null,
            "grid_auto_rows": null,
            "grid_column": null,
            "grid_gap": null,
            "grid_row": null,
            "grid_template_areas": null,
            "grid_template_columns": null,
            "grid_template_rows": null,
            "height": null,
            "justify_content": null,
            "justify_items": null,
            "left": null,
            "margin": null,
            "max_height": null,
            "max_width": null,
            "min_height": null,
            "min_width": null,
            "object_fit": null,
            "object_position": null,
            "order": null,
            "overflow": null,
            "overflow_x": null,
            "overflow_y": null,
            "padding": null,
            "right": null,
            "top": null,
            "visibility": null,
            "width": null
          }
        },
        "696b4f1977db41358eda71ec1b295554": {
          "model_module": "@jupyter-widgets/controls",
          "model_name": "ProgressStyleModel",
          "model_module_version": "1.5.0",
          "state": {
            "_model_module": "@jupyter-widgets/controls",
            "_model_module_version": "1.5.0",
            "_model_name": "ProgressStyleModel",
            "_view_count": null,
            "_view_module": "@jupyter-widgets/base",
            "_view_module_version": "1.2.0",
            "_view_name": "StyleView",
            "bar_color": null,
            "description_width": ""
          }
        },
        "ef88c9979b5d491eb15dcd91f21260ed": {
          "model_module": "@jupyter-widgets/base",
          "model_name": "LayoutModel",
          "model_module_version": "1.2.0",
          "state": {
            "_model_module": "@jupyter-widgets/base",
            "_model_module_version": "1.2.0",
            "_model_name": "LayoutModel",
            "_view_count": null,
            "_view_module": "@jupyter-widgets/base",
            "_view_module_version": "1.2.0",
            "_view_name": "LayoutView",
            "align_content": null,
            "align_items": null,
            "align_self": null,
            "border": null,
            "bottom": null,
            "display": null,
            "flex": null,
            "flex_flow": null,
            "grid_area": null,
            "grid_auto_columns": null,
            "grid_auto_flow": null,
            "grid_auto_rows": null,
            "grid_column": null,
            "grid_gap": null,
            "grid_row": null,
            "grid_template_areas": null,
            "grid_template_columns": null,
            "grid_template_rows": null,
            "height": null,
            "justify_content": null,
            "justify_items": null,
            "left": null,
            "margin": null,
            "max_height": null,
            "max_width": null,
            "min_height": null,
            "min_width": null,
            "object_fit": null,
            "object_position": null,
            "order": null,
            "overflow": null,
            "overflow_x": null,
            "overflow_y": null,
            "padding": null,
            "right": null,
            "top": null,
            "visibility": null,
            "width": null
          }
        },
        "12371efa2dca42978d51c15ae0d472cf": {
          "model_module": "@jupyter-widgets/controls",
          "model_name": "DescriptionStyleModel",
          "model_module_version": "1.5.0",
          "state": {
            "_model_module": "@jupyter-widgets/controls",
            "_model_module_version": "1.5.0",
            "_model_name": "DescriptionStyleModel",
            "_view_count": null,
            "_view_module": "@jupyter-widgets/base",
            "_view_module_version": "1.2.0",
            "_view_name": "StyleView",
            "description_width": ""
          }
        },
        "1594112a0c714504be66f2eeb6e965af": {
          "model_module": "@jupyter-widgets/controls",
          "model_name": "HBoxModel",
          "model_module_version": "1.5.0",
          "state": {
            "_dom_classes": [],
            "_model_module": "@jupyter-widgets/controls",
            "_model_module_version": "1.5.0",
            "_model_name": "HBoxModel",
            "_view_count": null,
            "_view_module": "@jupyter-widgets/controls",
            "_view_module_version": "1.5.0",
            "_view_name": "HBoxView",
            "box_style": "",
            "children": [
              "IPY_MODEL_2855bcd4408c4cc69f7573d22ea21c4c",
              "IPY_MODEL_c29c9f11a7c744af89254b1d31997fbc",
              "IPY_MODEL_722b705022c140d784742c4a2eac7a59"
            ],
            "layout": "IPY_MODEL_181430de1cac4044b0d46c3fd437b5d9"
          }
        },
        "2855bcd4408c4cc69f7573d22ea21c4c": {
          "model_module": "@jupyter-widgets/controls",
          "model_name": "HTMLModel",
          "model_module_version": "1.5.0",
          "state": {
            "_dom_classes": [],
            "_model_module": "@jupyter-widgets/controls",
            "_model_module_version": "1.5.0",
            "_model_name": "HTMLModel",
            "_view_count": null,
            "_view_module": "@jupyter-widgets/controls",
            "_view_module_version": "1.5.0",
            "_view_name": "HTMLView",
            "description": "",
            "description_tooltip": null,
            "layout": "IPY_MODEL_aba1d48870c14b4ca7195ace469ee833",
            "placeholder": "​",
            "style": "IPY_MODEL_09efa2c413f14503881dfb477f4549f7",
            "value": "tokenizer_config.json: 100%"
          }
        },
        "c29c9f11a7c744af89254b1d31997fbc": {
          "model_module": "@jupyter-widgets/controls",
          "model_name": "FloatProgressModel",
          "model_module_version": "1.5.0",
          "state": {
            "_dom_classes": [],
            "_model_module": "@jupyter-widgets/controls",
            "_model_module_version": "1.5.0",
            "_model_name": "FloatProgressModel",
            "_view_count": null,
            "_view_module": "@jupyter-widgets/controls",
            "_view_module_version": "1.5.0",
            "_view_name": "ProgressView",
            "bar_style": "success",
            "description": "",
            "description_tooltip": null,
            "layout": "IPY_MODEL_727a2bdb69e94aa49f0f99efeb9f934c",
            "max": 49,
            "min": 0,
            "orientation": "horizontal",
            "style": "IPY_MODEL_89b723e8ed8941ec8bdd44c8bfd7d5ac",
            "value": 49
          }
        },
        "722b705022c140d784742c4a2eac7a59": {
          "model_module": "@jupyter-widgets/controls",
          "model_name": "HTMLModel",
          "model_module_version": "1.5.0",
          "state": {
            "_dom_classes": [],
            "_model_module": "@jupyter-widgets/controls",
            "_model_module_version": "1.5.0",
            "_model_name": "HTMLModel",
            "_view_count": null,
            "_view_module": "@jupyter-widgets/controls",
            "_view_module_version": "1.5.0",
            "_view_name": "HTMLView",
            "description": "",
            "description_tooltip": null,
            "layout": "IPY_MODEL_470536c9a6ac4b4281cf302624f94a70",
            "placeholder": "​",
            "style": "IPY_MODEL_f1bc9c14f35949c9b30935f8b80580e5",
            "value": " 49.0/49.0 [00:00&lt;00:00, 4.32kB/s]"
          }
        },
        "181430de1cac4044b0d46c3fd437b5d9": {
          "model_module": "@jupyter-widgets/base",
          "model_name": "LayoutModel",
          "model_module_version": "1.2.0",
          "state": {
            "_model_module": "@jupyter-widgets/base",
            "_model_module_version": "1.2.0",
            "_model_name": "LayoutModel",
            "_view_count": null,
            "_view_module": "@jupyter-widgets/base",
            "_view_module_version": "1.2.0",
            "_view_name": "LayoutView",
            "align_content": null,
            "align_items": null,
            "align_self": null,
            "border": null,
            "bottom": null,
            "display": null,
            "flex": null,
            "flex_flow": null,
            "grid_area": null,
            "grid_auto_columns": null,
            "grid_auto_flow": null,
            "grid_auto_rows": null,
            "grid_column": null,
            "grid_gap": null,
            "grid_row": null,
            "grid_template_areas": null,
            "grid_template_columns": null,
            "grid_template_rows": null,
            "height": null,
            "justify_content": null,
            "justify_items": null,
            "left": null,
            "margin": null,
            "max_height": null,
            "max_width": null,
            "min_height": null,
            "min_width": null,
            "object_fit": null,
            "object_position": null,
            "order": null,
            "overflow": null,
            "overflow_x": null,
            "overflow_y": null,
            "padding": null,
            "right": null,
            "top": null,
            "visibility": null,
            "width": null
          }
        },
        "aba1d48870c14b4ca7195ace469ee833": {
          "model_module": "@jupyter-widgets/base",
          "model_name": "LayoutModel",
          "model_module_version": "1.2.0",
          "state": {
            "_model_module": "@jupyter-widgets/base",
            "_model_module_version": "1.2.0",
            "_model_name": "LayoutModel",
            "_view_count": null,
            "_view_module": "@jupyter-widgets/base",
            "_view_module_version": "1.2.0",
            "_view_name": "LayoutView",
            "align_content": null,
            "align_items": null,
            "align_self": null,
            "border": null,
            "bottom": null,
            "display": null,
            "flex": null,
            "flex_flow": null,
            "grid_area": null,
            "grid_auto_columns": null,
            "grid_auto_flow": null,
            "grid_auto_rows": null,
            "grid_column": null,
            "grid_gap": null,
            "grid_row": null,
            "grid_template_areas": null,
            "grid_template_columns": null,
            "grid_template_rows": null,
            "height": null,
            "justify_content": null,
            "justify_items": null,
            "left": null,
            "margin": null,
            "max_height": null,
            "max_width": null,
            "min_height": null,
            "min_width": null,
            "object_fit": null,
            "object_position": null,
            "order": null,
            "overflow": null,
            "overflow_x": null,
            "overflow_y": null,
            "padding": null,
            "right": null,
            "top": null,
            "visibility": null,
            "width": null
          }
        },
        "09efa2c413f14503881dfb477f4549f7": {
          "model_module": "@jupyter-widgets/controls",
          "model_name": "DescriptionStyleModel",
          "model_module_version": "1.5.0",
          "state": {
            "_model_module": "@jupyter-widgets/controls",
            "_model_module_version": "1.5.0",
            "_model_name": "DescriptionStyleModel",
            "_view_count": null,
            "_view_module": "@jupyter-widgets/base",
            "_view_module_version": "1.2.0",
            "_view_name": "StyleView",
            "description_width": ""
          }
        },
        "727a2bdb69e94aa49f0f99efeb9f934c": {
          "model_module": "@jupyter-widgets/base",
          "model_name": "LayoutModel",
          "model_module_version": "1.2.0",
          "state": {
            "_model_module": "@jupyter-widgets/base",
            "_model_module_version": "1.2.0",
            "_model_name": "LayoutModel",
            "_view_count": null,
            "_view_module": "@jupyter-widgets/base",
            "_view_module_version": "1.2.0",
            "_view_name": "LayoutView",
            "align_content": null,
            "align_items": null,
            "align_self": null,
            "border": null,
            "bottom": null,
            "display": null,
            "flex": null,
            "flex_flow": null,
            "grid_area": null,
            "grid_auto_columns": null,
            "grid_auto_flow": null,
            "grid_auto_rows": null,
            "grid_column": null,
            "grid_gap": null,
            "grid_row": null,
            "grid_template_areas": null,
            "grid_template_columns": null,
            "grid_template_rows": null,
            "height": null,
            "justify_content": null,
            "justify_items": null,
            "left": null,
            "margin": null,
            "max_height": null,
            "max_width": null,
            "min_height": null,
            "min_width": null,
            "object_fit": null,
            "object_position": null,
            "order": null,
            "overflow": null,
            "overflow_x": null,
            "overflow_y": null,
            "padding": null,
            "right": null,
            "top": null,
            "visibility": null,
            "width": null
          }
        },
        "89b723e8ed8941ec8bdd44c8bfd7d5ac": {
          "model_module": "@jupyter-widgets/controls",
          "model_name": "ProgressStyleModel",
          "model_module_version": "1.5.0",
          "state": {
            "_model_module": "@jupyter-widgets/controls",
            "_model_module_version": "1.5.0",
            "_model_name": "ProgressStyleModel",
            "_view_count": null,
            "_view_module": "@jupyter-widgets/base",
            "_view_module_version": "1.2.0",
            "_view_name": "StyleView",
            "bar_color": null,
            "description_width": ""
          }
        },
        "470536c9a6ac4b4281cf302624f94a70": {
          "model_module": "@jupyter-widgets/base",
          "model_name": "LayoutModel",
          "model_module_version": "1.2.0",
          "state": {
            "_model_module": "@jupyter-widgets/base",
            "_model_module_version": "1.2.0",
            "_model_name": "LayoutModel",
            "_view_count": null,
            "_view_module": "@jupyter-widgets/base",
            "_view_module_version": "1.2.0",
            "_view_name": "LayoutView",
            "align_content": null,
            "align_items": null,
            "align_self": null,
            "border": null,
            "bottom": null,
            "display": null,
            "flex": null,
            "flex_flow": null,
            "grid_area": null,
            "grid_auto_columns": null,
            "grid_auto_flow": null,
            "grid_auto_rows": null,
            "grid_column": null,
            "grid_gap": null,
            "grid_row": null,
            "grid_template_areas": null,
            "grid_template_columns": null,
            "grid_template_rows": null,
            "height": null,
            "justify_content": null,
            "justify_items": null,
            "left": null,
            "margin": null,
            "max_height": null,
            "max_width": null,
            "min_height": null,
            "min_width": null,
            "object_fit": null,
            "object_position": null,
            "order": null,
            "overflow": null,
            "overflow_x": null,
            "overflow_y": null,
            "padding": null,
            "right": null,
            "top": null,
            "visibility": null,
            "width": null
          }
        },
        "f1bc9c14f35949c9b30935f8b80580e5": {
          "model_module": "@jupyter-widgets/controls",
          "model_name": "DescriptionStyleModel",
          "model_module_version": "1.5.0",
          "state": {
            "_model_module": "@jupyter-widgets/controls",
            "_model_module_version": "1.5.0",
            "_model_name": "DescriptionStyleModel",
            "_view_count": null,
            "_view_module": "@jupyter-widgets/base",
            "_view_module_version": "1.2.0",
            "_view_name": "StyleView",
            "description_width": ""
          }
        },
        "f32cd8226e7a4223ae160e5a446de416": {
          "model_module": "@jupyter-widgets/controls",
          "model_name": "HBoxModel",
          "model_module_version": "1.5.0",
          "state": {
            "_dom_classes": [],
            "_model_module": "@jupyter-widgets/controls",
            "_model_module_version": "1.5.0",
            "_model_name": "HBoxModel",
            "_view_count": null,
            "_view_module": "@jupyter-widgets/controls",
            "_view_module_version": "1.5.0",
            "_view_name": "HBoxView",
            "box_style": "",
            "children": [
              "IPY_MODEL_43ef7db7f2f84f389081bf3455e908d7",
              "IPY_MODEL_d80b6d8cf54b4ead96580d476b0eae2e",
              "IPY_MODEL_cb4dcdecd71d4af4a4c3f6a9aca6420f"
            ],
            "layout": "IPY_MODEL_2df9ae77aa3a4eeaab434915d53f4a36"
          }
        },
        "43ef7db7f2f84f389081bf3455e908d7": {
          "model_module": "@jupyter-widgets/controls",
          "model_name": "HTMLModel",
          "model_module_version": "1.5.0",
          "state": {
            "_dom_classes": [],
            "_model_module": "@jupyter-widgets/controls",
            "_model_module_version": "1.5.0",
            "_model_name": "HTMLModel",
            "_view_count": null,
            "_view_module": "@jupyter-widgets/controls",
            "_view_module_version": "1.5.0",
            "_view_name": "HTMLView",
            "description": "",
            "description_tooltip": null,
            "layout": "IPY_MODEL_bb9edb65d54a456d9bcc0ef1c6689109",
            "placeholder": "​",
            "style": "IPY_MODEL_cbc7555025854d5c92973932f55df4fe",
            "value": "vocab.txt: 100%"
          }
        },
        "d80b6d8cf54b4ead96580d476b0eae2e": {
          "model_module": "@jupyter-widgets/controls",
          "model_name": "FloatProgressModel",
          "model_module_version": "1.5.0",
          "state": {
            "_dom_classes": [],
            "_model_module": "@jupyter-widgets/controls",
            "_model_module_version": "1.5.0",
            "_model_name": "FloatProgressModel",
            "_view_count": null,
            "_view_module": "@jupyter-widgets/controls",
            "_view_module_version": "1.5.0",
            "_view_name": "ProgressView",
            "bar_style": "success",
            "description": "",
            "description_tooltip": null,
            "layout": "IPY_MODEL_7f8412ad3a1648498b2bd860bc89cc8b",
            "max": 213450,
            "min": 0,
            "orientation": "horizontal",
            "style": "IPY_MODEL_438b598ba85c4a95a70a46caf4edbe99",
            "value": 213450
          }
        },
        "cb4dcdecd71d4af4a4c3f6a9aca6420f": {
          "model_module": "@jupyter-widgets/controls",
          "model_name": "HTMLModel",
          "model_module_version": "1.5.0",
          "state": {
            "_dom_classes": [],
            "_model_module": "@jupyter-widgets/controls",
            "_model_module_version": "1.5.0",
            "_model_name": "HTMLModel",
            "_view_count": null,
            "_view_module": "@jupyter-widgets/controls",
            "_view_module_version": "1.5.0",
            "_view_name": "HTMLView",
            "description": "",
            "description_tooltip": null,
            "layout": "IPY_MODEL_f2b391c125164edbb5dbdd5f69394bf6",
            "placeholder": "​",
            "style": "IPY_MODEL_be98761cdcea4a4299d5039eaef0c000",
            "value": " 213k/213k [00:00&lt;00:00, 7.16MB/s]"
          }
        },
        "2df9ae77aa3a4eeaab434915d53f4a36": {
          "model_module": "@jupyter-widgets/base",
          "model_name": "LayoutModel",
          "model_module_version": "1.2.0",
          "state": {
            "_model_module": "@jupyter-widgets/base",
            "_model_module_version": "1.2.0",
            "_model_name": "LayoutModel",
            "_view_count": null,
            "_view_module": "@jupyter-widgets/base",
            "_view_module_version": "1.2.0",
            "_view_name": "LayoutView",
            "align_content": null,
            "align_items": null,
            "align_self": null,
            "border": null,
            "bottom": null,
            "display": null,
            "flex": null,
            "flex_flow": null,
            "grid_area": null,
            "grid_auto_columns": null,
            "grid_auto_flow": null,
            "grid_auto_rows": null,
            "grid_column": null,
            "grid_gap": null,
            "grid_row": null,
            "grid_template_areas": null,
            "grid_template_columns": null,
            "grid_template_rows": null,
            "height": null,
            "justify_content": null,
            "justify_items": null,
            "left": null,
            "margin": null,
            "max_height": null,
            "max_width": null,
            "min_height": null,
            "min_width": null,
            "object_fit": null,
            "object_position": null,
            "order": null,
            "overflow": null,
            "overflow_x": null,
            "overflow_y": null,
            "padding": null,
            "right": null,
            "top": null,
            "visibility": null,
            "width": null
          }
        },
        "bb9edb65d54a456d9bcc0ef1c6689109": {
          "model_module": "@jupyter-widgets/base",
          "model_name": "LayoutModel",
          "model_module_version": "1.2.0",
          "state": {
            "_model_module": "@jupyter-widgets/base",
            "_model_module_version": "1.2.0",
            "_model_name": "LayoutModel",
            "_view_count": null,
            "_view_module": "@jupyter-widgets/base",
            "_view_module_version": "1.2.0",
            "_view_name": "LayoutView",
            "align_content": null,
            "align_items": null,
            "align_self": null,
            "border": null,
            "bottom": null,
            "display": null,
            "flex": null,
            "flex_flow": null,
            "grid_area": null,
            "grid_auto_columns": null,
            "grid_auto_flow": null,
            "grid_auto_rows": null,
            "grid_column": null,
            "grid_gap": null,
            "grid_row": null,
            "grid_template_areas": null,
            "grid_template_columns": null,
            "grid_template_rows": null,
            "height": null,
            "justify_content": null,
            "justify_items": null,
            "left": null,
            "margin": null,
            "max_height": null,
            "max_width": null,
            "min_height": null,
            "min_width": null,
            "object_fit": null,
            "object_position": null,
            "order": null,
            "overflow": null,
            "overflow_x": null,
            "overflow_y": null,
            "padding": null,
            "right": null,
            "top": null,
            "visibility": null,
            "width": null
          }
        },
        "cbc7555025854d5c92973932f55df4fe": {
          "model_module": "@jupyter-widgets/controls",
          "model_name": "DescriptionStyleModel",
          "model_module_version": "1.5.0",
          "state": {
            "_model_module": "@jupyter-widgets/controls",
            "_model_module_version": "1.5.0",
            "_model_name": "DescriptionStyleModel",
            "_view_count": null,
            "_view_module": "@jupyter-widgets/base",
            "_view_module_version": "1.2.0",
            "_view_name": "StyleView",
            "description_width": ""
          }
        },
        "7f8412ad3a1648498b2bd860bc89cc8b": {
          "model_module": "@jupyter-widgets/base",
          "model_name": "LayoutModel",
          "model_module_version": "1.2.0",
          "state": {
            "_model_module": "@jupyter-widgets/base",
            "_model_module_version": "1.2.0",
            "_model_name": "LayoutModel",
            "_view_count": null,
            "_view_module": "@jupyter-widgets/base",
            "_view_module_version": "1.2.0",
            "_view_name": "LayoutView",
            "align_content": null,
            "align_items": null,
            "align_self": null,
            "border": null,
            "bottom": null,
            "display": null,
            "flex": null,
            "flex_flow": null,
            "grid_area": null,
            "grid_auto_columns": null,
            "grid_auto_flow": null,
            "grid_auto_rows": null,
            "grid_column": null,
            "grid_gap": null,
            "grid_row": null,
            "grid_template_areas": null,
            "grid_template_columns": null,
            "grid_template_rows": null,
            "height": null,
            "justify_content": null,
            "justify_items": null,
            "left": null,
            "margin": null,
            "max_height": null,
            "max_width": null,
            "min_height": null,
            "min_width": null,
            "object_fit": null,
            "object_position": null,
            "order": null,
            "overflow": null,
            "overflow_x": null,
            "overflow_y": null,
            "padding": null,
            "right": null,
            "top": null,
            "visibility": null,
            "width": null
          }
        },
        "438b598ba85c4a95a70a46caf4edbe99": {
          "model_module": "@jupyter-widgets/controls",
          "model_name": "ProgressStyleModel",
          "model_module_version": "1.5.0",
          "state": {
            "_model_module": "@jupyter-widgets/controls",
            "_model_module_version": "1.5.0",
            "_model_name": "ProgressStyleModel",
            "_view_count": null,
            "_view_module": "@jupyter-widgets/base",
            "_view_module_version": "1.2.0",
            "_view_name": "StyleView",
            "bar_color": null,
            "description_width": ""
          }
        },
        "f2b391c125164edbb5dbdd5f69394bf6": {
          "model_module": "@jupyter-widgets/base",
          "model_name": "LayoutModel",
          "model_module_version": "1.2.0",
          "state": {
            "_model_module": "@jupyter-widgets/base",
            "_model_module_version": "1.2.0",
            "_model_name": "LayoutModel",
            "_view_count": null,
            "_view_module": "@jupyter-widgets/base",
            "_view_module_version": "1.2.0",
            "_view_name": "LayoutView",
            "align_content": null,
            "align_items": null,
            "align_self": null,
            "border": null,
            "bottom": null,
            "display": null,
            "flex": null,
            "flex_flow": null,
            "grid_area": null,
            "grid_auto_columns": null,
            "grid_auto_flow": null,
            "grid_auto_rows": null,
            "grid_column": null,
            "grid_gap": null,
            "grid_row": null,
            "grid_template_areas": null,
            "grid_template_columns": null,
            "grid_template_rows": null,
            "height": null,
            "justify_content": null,
            "justify_items": null,
            "left": null,
            "margin": null,
            "max_height": null,
            "max_width": null,
            "min_height": null,
            "min_width": null,
            "object_fit": null,
            "object_position": null,
            "order": null,
            "overflow": null,
            "overflow_x": null,
            "overflow_y": null,
            "padding": null,
            "right": null,
            "top": null,
            "visibility": null,
            "width": null
          }
        },
        "be98761cdcea4a4299d5039eaef0c000": {
          "model_module": "@jupyter-widgets/controls",
          "model_name": "DescriptionStyleModel",
          "model_module_version": "1.5.0",
          "state": {
            "_model_module": "@jupyter-widgets/controls",
            "_model_module_version": "1.5.0",
            "_model_name": "DescriptionStyleModel",
            "_view_count": null,
            "_view_module": "@jupyter-widgets/base",
            "_view_module_version": "1.2.0",
            "_view_name": "StyleView",
            "description_width": ""
          }
        },
        "cda6cde7fca34d4da76d266a3906c130": {
          "model_module": "@jupyter-widgets/controls",
          "model_name": "HBoxModel",
          "model_module_version": "1.5.0",
          "state": {
            "_dom_classes": [],
            "_model_module": "@jupyter-widgets/controls",
            "_model_module_version": "1.5.0",
            "_model_name": "HBoxModel",
            "_view_count": null,
            "_view_module": "@jupyter-widgets/controls",
            "_view_module_version": "1.5.0",
            "_view_name": "HBoxView",
            "box_style": "",
            "children": [
              "IPY_MODEL_b08f987f37de485cbd61268979279172",
              "IPY_MODEL_5485aef5ba184ff0b6350aa6875f04d2",
              "IPY_MODEL_deee8dfcb05544daa7528b2901431d8b"
            ],
            "layout": "IPY_MODEL_a84039429cc04e40852f9e450ce6eab8"
          }
        },
        "b08f987f37de485cbd61268979279172": {
          "model_module": "@jupyter-widgets/controls",
          "model_name": "HTMLModel",
          "model_module_version": "1.5.0",
          "state": {
            "_dom_classes": [],
            "_model_module": "@jupyter-widgets/controls",
            "_model_module_version": "1.5.0",
            "_model_name": "HTMLModel",
            "_view_count": null,
            "_view_module": "@jupyter-widgets/controls",
            "_view_module_version": "1.5.0",
            "_view_name": "HTMLView",
            "description": "",
            "description_tooltip": null,
            "layout": "IPY_MODEL_7c691513a1444d4a892f80f881906162",
            "placeholder": "​",
            "style": "IPY_MODEL_07cd5f0a8292446d9b2e7b04983a62ee",
            "value": "tokenizer.json: 100%"
          }
        },
        "5485aef5ba184ff0b6350aa6875f04d2": {
          "model_module": "@jupyter-widgets/controls",
          "model_name": "FloatProgressModel",
          "model_module_version": "1.5.0",
          "state": {
            "_dom_classes": [],
            "_model_module": "@jupyter-widgets/controls",
            "_model_module_version": "1.5.0",
            "_model_name": "FloatProgressModel",
            "_view_count": null,
            "_view_module": "@jupyter-widgets/controls",
            "_view_module_version": "1.5.0",
            "_view_name": "ProgressView",
            "bar_style": "success",
            "description": "",
            "description_tooltip": null,
            "layout": "IPY_MODEL_2b6842626a7e46d5a18b00972928e23c",
            "max": 435797,
            "min": 0,
            "orientation": "horizontal",
            "style": "IPY_MODEL_d6c1172d95a94854a03d0d73d2bbbec7",
            "value": 435797
          }
        },
        "deee8dfcb05544daa7528b2901431d8b": {
          "model_module": "@jupyter-widgets/controls",
          "model_name": "HTMLModel",
          "model_module_version": "1.5.0",
          "state": {
            "_dom_classes": [],
            "_model_module": "@jupyter-widgets/controls",
            "_model_module_version": "1.5.0",
            "_model_name": "HTMLModel",
            "_view_count": null,
            "_view_module": "@jupyter-widgets/controls",
            "_view_module_version": "1.5.0",
            "_view_name": "HTMLView",
            "description": "",
            "description_tooltip": null,
            "layout": "IPY_MODEL_aa4a9a7e01bb41518db78debdea088ba",
            "placeholder": "​",
            "style": "IPY_MODEL_e7b8d0b8d44e4c06b2e722579764a02a",
            "value": " 436k/436k [00:00&lt;00:00, 3.61MB/s]"
          }
        },
        "a84039429cc04e40852f9e450ce6eab8": {
          "model_module": "@jupyter-widgets/base",
          "model_name": "LayoutModel",
          "model_module_version": "1.2.0",
          "state": {
            "_model_module": "@jupyter-widgets/base",
            "_model_module_version": "1.2.0",
            "_model_name": "LayoutModel",
            "_view_count": null,
            "_view_module": "@jupyter-widgets/base",
            "_view_module_version": "1.2.0",
            "_view_name": "LayoutView",
            "align_content": null,
            "align_items": null,
            "align_self": null,
            "border": null,
            "bottom": null,
            "display": null,
            "flex": null,
            "flex_flow": null,
            "grid_area": null,
            "grid_auto_columns": null,
            "grid_auto_flow": null,
            "grid_auto_rows": null,
            "grid_column": null,
            "grid_gap": null,
            "grid_row": null,
            "grid_template_areas": null,
            "grid_template_columns": null,
            "grid_template_rows": null,
            "height": null,
            "justify_content": null,
            "justify_items": null,
            "left": null,
            "margin": null,
            "max_height": null,
            "max_width": null,
            "min_height": null,
            "min_width": null,
            "object_fit": null,
            "object_position": null,
            "order": null,
            "overflow": null,
            "overflow_x": null,
            "overflow_y": null,
            "padding": null,
            "right": null,
            "top": null,
            "visibility": null,
            "width": null
          }
        },
        "7c691513a1444d4a892f80f881906162": {
          "model_module": "@jupyter-widgets/base",
          "model_name": "LayoutModel",
          "model_module_version": "1.2.0",
          "state": {
            "_model_module": "@jupyter-widgets/base",
            "_model_module_version": "1.2.0",
            "_model_name": "LayoutModel",
            "_view_count": null,
            "_view_module": "@jupyter-widgets/base",
            "_view_module_version": "1.2.0",
            "_view_name": "LayoutView",
            "align_content": null,
            "align_items": null,
            "align_self": null,
            "border": null,
            "bottom": null,
            "display": null,
            "flex": null,
            "flex_flow": null,
            "grid_area": null,
            "grid_auto_columns": null,
            "grid_auto_flow": null,
            "grid_auto_rows": null,
            "grid_column": null,
            "grid_gap": null,
            "grid_row": null,
            "grid_template_areas": null,
            "grid_template_columns": null,
            "grid_template_rows": null,
            "height": null,
            "justify_content": null,
            "justify_items": null,
            "left": null,
            "margin": null,
            "max_height": null,
            "max_width": null,
            "min_height": null,
            "min_width": null,
            "object_fit": null,
            "object_position": null,
            "order": null,
            "overflow": null,
            "overflow_x": null,
            "overflow_y": null,
            "padding": null,
            "right": null,
            "top": null,
            "visibility": null,
            "width": null
          }
        },
        "07cd5f0a8292446d9b2e7b04983a62ee": {
          "model_module": "@jupyter-widgets/controls",
          "model_name": "DescriptionStyleModel",
          "model_module_version": "1.5.0",
          "state": {
            "_model_module": "@jupyter-widgets/controls",
            "_model_module_version": "1.5.0",
            "_model_name": "DescriptionStyleModel",
            "_view_count": null,
            "_view_module": "@jupyter-widgets/base",
            "_view_module_version": "1.2.0",
            "_view_name": "StyleView",
            "description_width": ""
          }
        },
        "2b6842626a7e46d5a18b00972928e23c": {
          "model_module": "@jupyter-widgets/base",
          "model_name": "LayoutModel",
          "model_module_version": "1.2.0",
          "state": {
            "_model_module": "@jupyter-widgets/base",
            "_model_module_version": "1.2.0",
            "_model_name": "LayoutModel",
            "_view_count": null,
            "_view_module": "@jupyter-widgets/base",
            "_view_module_version": "1.2.0",
            "_view_name": "LayoutView",
            "align_content": null,
            "align_items": null,
            "align_self": null,
            "border": null,
            "bottom": null,
            "display": null,
            "flex": null,
            "flex_flow": null,
            "grid_area": null,
            "grid_auto_columns": null,
            "grid_auto_flow": null,
            "grid_auto_rows": null,
            "grid_column": null,
            "grid_gap": null,
            "grid_row": null,
            "grid_template_areas": null,
            "grid_template_columns": null,
            "grid_template_rows": null,
            "height": null,
            "justify_content": null,
            "justify_items": null,
            "left": null,
            "margin": null,
            "max_height": null,
            "max_width": null,
            "min_height": null,
            "min_width": null,
            "object_fit": null,
            "object_position": null,
            "order": null,
            "overflow": null,
            "overflow_x": null,
            "overflow_y": null,
            "padding": null,
            "right": null,
            "top": null,
            "visibility": null,
            "width": null
          }
        },
        "d6c1172d95a94854a03d0d73d2bbbec7": {
          "model_module": "@jupyter-widgets/controls",
          "model_name": "ProgressStyleModel",
          "model_module_version": "1.5.0",
          "state": {
            "_model_module": "@jupyter-widgets/controls",
            "_model_module_version": "1.5.0",
            "_model_name": "ProgressStyleModel",
            "_view_count": null,
            "_view_module": "@jupyter-widgets/base",
            "_view_module_version": "1.2.0",
            "_view_name": "StyleView",
            "bar_color": null,
            "description_width": ""
          }
        },
        "aa4a9a7e01bb41518db78debdea088ba": {
          "model_module": "@jupyter-widgets/base",
          "model_name": "LayoutModel",
          "model_module_version": "1.2.0",
          "state": {
            "_model_module": "@jupyter-widgets/base",
            "_model_module_version": "1.2.0",
            "_model_name": "LayoutModel",
            "_view_count": null,
            "_view_module": "@jupyter-widgets/base",
            "_view_module_version": "1.2.0",
            "_view_name": "LayoutView",
            "align_content": null,
            "align_items": null,
            "align_self": null,
            "border": null,
            "bottom": null,
            "display": null,
            "flex": null,
            "flex_flow": null,
            "grid_area": null,
            "grid_auto_columns": null,
            "grid_auto_flow": null,
            "grid_auto_rows": null,
            "grid_column": null,
            "grid_gap": null,
            "grid_row": null,
            "grid_template_areas": null,
            "grid_template_columns": null,
            "grid_template_rows": null,
            "height": null,
            "justify_content": null,
            "justify_items": null,
            "left": null,
            "margin": null,
            "max_height": null,
            "max_width": null,
            "min_height": null,
            "min_width": null,
            "object_fit": null,
            "object_position": null,
            "order": null,
            "overflow": null,
            "overflow_x": null,
            "overflow_y": null,
            "padding": null,
            "right": null,
            "top": null,
            "visibility": null,
            "width": null
          }
        },
        "e7b8d0b8d44e4c06b2e722579764a02a": {
          "model_module": "@jupyter-widgets/controls",
          "model_name": "DescriptionStyleModel",
          "model_module_version": "1.5.0",
          "state": {
            "_model_module": "@jupyter-widgets/controls",
            "_model_module_version": "1.5.0",
            "_model_name": "DescriptionStyleModel",
            "_view_count": null,
            "_view_module": "@jupyter-widgets/base",
            "_view_module_version": "1.2.0",
            "_view_name": "StyleView",
            "description_width": ""
          }
        }
      }
    },
    "accelerator": "GPU"
  },
  "cells": [
    {
      "cell_type": "markdown",
      "metadata": {
        "id": "view-in-github",
        "colab_type": "text"
      },
      "source": [
        "<a href=\"https://colab.research.google.com/github/dewiidda/LLM-Telkom-Mini-Bootcamp/blob/main/2_Using_transformers.ipynb\" target=\"_parent\"><img src=\"https://colab.research.google.com/assets/colab-badge.svg\" alt=\"Open In Colab\"/></a>"
      ]
    },
    {
      "cell_type": "markdown",
      "source": [
        "# Behind *pipeline*"
      ],
      "metadata": {
        "id": "aftf0W8vk77I"
      }
    },
    {
      "cell_type": "code",
      "execution_count": null,
      "metadata": {
        "colab": {
          "base_uri": "https://localhost:8080/"
        },
        "id": "WFgUoVnfjoPL",
        "outputId": "feb8dfba-edc2-4f7c-817a-4f3680747e1d"
      },
      "outputs": [
        {
          "output_type": "stream",
          "name": "stderr",
          "text": [
            "No model was supplied, defaulted to distilbert/distilbert-base-uncased-finetuned-sst-2-english and revision 714eb0f (https://huggingface.co/distilbert/distilbert-base-uncased-finetuned-sst-2-english).\n",
            "Using a pipeline without specifying a model name and revision in production is not recommended.\n",
            "Device set to use cuda:0\n"
          ]
        },
        {
          "output_type": "execute_result",
          "data": {
            "text/plain": [
              "[{'label': 'POSITIVE', 'score': 0.8516309261322021},\n",
              " {'label': 'NEGATIVE', 'score': 0.9994558691978455}]"
            ]
          },
          "metadata": {},
          "execution_count": 3
        }
      ],
      "source": [
        "from transformers import pipeline\n",
        "\n",
        "classifier = pipeline(\"sentiment-analysis\")\n",
        "classifier(\n",
        "    [\n",
        "        \"I've been waiting for Martabak course my whole life.\",\n",
        "        \"I hate this so much!\",\n",
        "    ]\n",
        ")"
      ]
    },
    {
      "cell_type": "markdown",
      "source": [
        "![image.png](data:image/png;base64,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)"
      ],
      "metadata": {
        "id": "hWu8ApaAlDNW"
      }
    },
    {
      "cell_type": "markdown",
      "source": [
        "\n",
        "\n",
        "### 1.   Preprocessing with a tokenizer\n",
        "*   Splitting the input into words, subwords, or symbols (like punctuation) that are called tokens\n",
        "*   Mapping each token to an integer\n",
        "*   Adding additional inputs that may be useful to the model"
      ],
      "metadata": {
        "id": "PT9UH2hulSKa"
      }
    },
    {
      "cell_type": "code",
      "source": [
        "from transformers import AutoTokenizer\n",
        "\n",
        "checkpoint = \"distilbert-base-uncased-finetuned-sst-2-english\"\n",
        "tokenizer = AutoTokenizer.from_pretrained(checkpoint)"
      ],
      "metadata": {
        "colab": {
          "base_uri": "https://localhost:8080/",
          "height": 81,
          "referenced_widgets": [
            "5b5715023eed4de282db082e46f8db48",
            "3594aa34a653443681875436ce4bc1f2",
            "edd90e517ad942d598595d47520a8fa7",
            "cb204a1afc454be9b0e94b0ad5ce1e6e",
            "bdfdab055ad64307b2d4f9341ad2f4a7",
            "1045555373a04a1b8b56278b775f3411",
            "4620d55d76584e24a3233718fe204c65",
            "e8e6f00c1111438fb6923d72dd313b20",
            "2df0551cf4ce47aeb9ff1526a3e91169",
            "e772803aea8c4092afff2e9e4356ed49",
            "592cf626e87a47bdb0add9826ba9f79b",
            "03400a9e7faa486899afe7e7449f27f3",
            "d48858ea90fb4d93af5b4fe72e806445",
            "f88e22b5edd24650a6d0a83bb1e122cd",
            "b27c70c5c7514aa68e81c9be657a7859",
            "7ed4f7600c4943c59198d8c29114e90c",
            "69b44cfb2d5b48608da6d3e4ada7a583",
            "2eeef8d0d4de4ddd825af7fc9a437e5c",
            "e9af1158264f49df8f325e8222988677",
            "bf8c1d8ff0b649e1a89c55d1fe3a5ac2",
            "69d20abf194a4887be8696627dc2a763",
            "5559ac8540cc4cc99862069d6fc4890c"
          ]
        },
        "id": "3EQFCFS3laIp",
        "outputId": "464b3d7c-946f-470f-e072-4d0fe2b5dcca"
      },
      "execution_count": null,
      "outputs": [
        {
          "output_type": "display_data",
          "data": {
            "text/plain": [
              "tokenizer_config.json:   0%|          | 0.00/48.0 [00:00<?, ?B/s]"
            ],
            "application/vnd.jupyter.widget-view+json": {
              "version_major": 2,
              "version_minor": 0,
              "model_id": "5b5715023eed4de282db082e46f8db48"
            }
          },
          "metadata": {}
        },
        {
          "output_type": "display_data",
          "data": {
            "text/plain": [
              "vocab.txt:   0%|          | 0.00/232k [00:00<?, ?B/s]"
            ],
            "application/vnd.jupyter.widget-view+json": {
              "version_major": 2,
              "version_minor": 0,
              "model_id": "03400a9e7faa486899afe7e7449f27f3"
            }
          },
          "metadata": {}
        }
      ]
    },
    {
      "cell_type": "code",
      "source": [
        "raw_inputs = [\n",
        "    \"I've been waiting for a HuggingFace course my whole life.\",\n",
        "    \"I hate this so much!\",\n",
        "]\n",
        "inputs = tokenizer(raw_inputs, padding=True, truncation=True, return_tensors=\"pt\")\n",
        "print(inputs)"
      ],
      "metadata": {
        "colab": {
          "base_uri": "https://localhost:8080/"
        },
        "id": "-htyj64Ol6hU",
        "outputId": "f9faea2a-cd33-4c17-bd83-cfaad9dee8ed"
      },
      "execution_count": null,
      "outputs": [
        {
          "output_type": "stream",
          "name": "stdout",
          "text": [
            "{'input_ids': tensor([[  101,  1045,  1005,  2310,  2042,  3403,  2005,  1037, 17662, 12172,\n",
            "          2607,  2026,  2878,  2166,  1012,   102],\n",
            "        [  101,  1045,  5223,  2023,  2061,  2172,   999,   102,     0,     0,\n",
            "             0,     0,     0,     0,     0,     0]]), 'attention_mask': tensor([[1, 1, 1, 1, 1, 1, 1, 1, 1, 1, 1, 1, 1, 1, 1, 1],\n",
            "        [1, 1, 1, 1, 1, 1, 1, 1, 0, 0, 0, 0, 0, 0, 0, 0]])}\n"
          ]
        }
      ]
    },
    {
      "cell_type": "markdown",
      "source": [
        "### 2. Going through the model\n"
      ],
      "metadata": {
        "id": "huW-CJ9smEw9"
      }
    },
    {
      "cell_type": "code",
      "source": [
        "from transformers import AutoModel\n",
        "\n",
        "checkpoint = \"distilbert-base-uncased-finetuned-sst-2-english\"\n",
        "model = AutoModel.from_pretrained(checkpoint)"
      ],
      "metadata": {
        "id": "0uzD8OdPmLbQ"
      },
      "execution_count": null,
      "outputs": []
    },
    {
      "cell_type": "markdown",
      "source": [
        "### 3. A high-dimensional vector?\n",
        "The vector output by the Transformer module is usually large. It generally has three dimensions:\n",
        "* Batch size: The number of sequences processed at a time (2 in our example).\n",
        "* Sequence length: The length of the numerical representation of the sequence (16 in our example).\n",
        "* Hidden size: The vector dimension of each model input."
      ],
      "metadata": {
        "id": "bP8OKcAgmKQs"
      }
    },
    {
      "cell_type": "code",
      "source": [
        "outputs = model(**inputs)\n",
        "print(outputs.last_hidden_state.shape)"
      ],
      "metadata": {
        "colab": {
          "base_uri": "https://localhost:8080/"
        },
        "id": "9atfrPTamaze",
        "outputId": "540e224e-830b-496f-db60-d8ab9d13fa32"
      },
      "execution_count": null,
      "outputs": [
        {
          "output_type": "stream",
          "name": "stdout",
          "text": [
            "torch.Size([2, 16, 768])\n"
          ]
        }
      ]
    },
    {
      "cell_type": "markdown",
      "source": [
        "### 4. Model heads: Making sense out of numbers\n"
      ],
      "metadata": {
        "id": "7OrHmPtym5xo"
      }
    },
    {
      "cell_type": "markdown",
      "source": [
        "![image.png](data:image/png;base64,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)"
      ],
      "metadata": {
        "id": "MOAJxx2UnARh"
      }
    },
    {
      "cell_type": "code",
      "source": [
        "from transformers import AutoModelForSequenceClassification\n",
        "\n",
        "checkpoint = \"distilbert-base-uncased-finetuned-sst-2-english\"\n",
        "model = AutoModelForSequenceClassification.from_pretrained(checkpoint)\n",
        "outputs = model(**inputs)"
      ],
      "metadata": {
        "id": "kAANw7FSnGuh"
      },
      "execution_count": null,
      "outputs": []
    },
    {
      "cell_type": "code",
      "source": [
        "print(outputs.logits.shape)"
      ],
      "metadata": {
        "colab": {
          "base_uri": "https://localhost:8080/"
        },
        "id": "W3qLNGwrnJjB",
        "outputId": "906c3c05-acd2-46ea-feee-07ab289b0b37"
      },
      "execution_count": null,
      "outputs": [
        {
          "output_type": "stream",
          "name": "stdout",
          "text": [
            "torch.Size([2, 2])\n"
          ]
        }
      ]
    },
    {
      "cell_type": "markdown",
      "source": [
        "### 5.Postprocessing the output"
      ],
      "metadata": {
        "id": "5r1NXPkDnBfb"
      }
    },
    {
      "cell_type": "code",
      "source": [
        "print(outputs.logits)"
      ],
      "metadata": {
        "colab": {
          "base_uri": "https://localhost:8080/"
        },
        "id": "OIwAj98lnWeq",
        "outputId": "a72e8b6d-1ea4-47a1-a286-7ab73234c137"
      },
      "execution_count": null,
      "outputs": [
        {
          "output_type": "stream",
          "name": "stdout",
          "text": [
            "tensor([[-1.5607,  1.6123],\n",
            "        [ 4.1692, -3.3464]], grad_fn=<AddmmBackward0>)\n"
          ]
        }
      ]
    },
    {
      "cell_type": "code",
      "source": [
        "import torch\n",
        "\n",
        "predictions = torch.nn.functional.softmax(outputs.logits, dim=-1)\n",
        "print(predictions)"
      ],
      "metadata": {
        "colab": {
          "base_uri": "https://localhost:8080/"
        },
        "id": "_UNiHIisndMf",
        "outputId": "ac3c9ef2-1862-4e94-9c3c-93b9304d6c2f"
      },
      "execution_count": null,
      "outputs": [
        {
          "output_type": "stream",
          "name": "stdout",
          "text": [
            "tensor([[4.0195e-02, 9.5980e-01],\n",
            "        [9.9946e-01, 5.4418e-04]], grad_fn=<SoftmaxBackward0>)\n"
          ]
        }
      ]
    },
    {
      "cell_type": "code",
      "source": [
        "model.config.id2label"
      ],
      "metadata": {
        "colab": {
          "base_uri": "https://localhost:8080/"
        },
        "id": "I9atafmAngV-",
        "outputId": "41fefe43-24c6-4359-b5da-5b280e7fd5d8"
      },
      "execution_count": null,
      "outputs": [
        {
          "output_type": "execute_result",
          "data": {
            "text/plain": [
              "{0: 'NEGATIVE', 1: 'POSITIVE'}"
            ]
          },
          "metadata": {},
          "execution_count": 15
        }
      ]
    },
    {
      "cell_type": "markdown",
      "source": [
        "# Models (PyTorch)"
      ],
      "metadata": {
        "id": "P0-owPwLnsHw"
      }
    },
    {
      "cell_type": "code",
      "source": [
        "!pip install datasets evaluate transformers[sentencepiece]"
      ],
      "metadata": {
        "collapsed": true,
        "id": "3hsBcGaZotCi",
        "colab": {
          "base_uri": "https://localhost:8080/"
        },
        "outputId": "5d46d77b-90b9-42a8-e4ac-d2b0321405a4"
      },
      "execution_count": null,
      "outputs": [
        {
          "output_type": "stream",
          "name": "stdout",
          "text": [
            "Collecting datasets\n",
            "  Downloading datasets-3.2.0-py3-none-any.whl.metadata (20 kB)\n",
            "Collecting evaluate\n",
            "  Downloading evaluate-0.4.3-py3-none-any.whl.metadata (9.2 kB)\n",
            "Requirement already satisfied: transformers[sentencepiece] in /usr/local/lib/python3.11/dist-packages (4.47.1)\n",
            "Requirement already satisfied: filelock in /usr/local/lib/python3.11/dist-packages (from datasets) (3.17.0)\n",
            "Requirement already satisfied: numpy>=1.17 in /usr/local/lib/python3.11/dist-packages (from datasets) (1.26.4)\n",
            "Requirement already satisfied: pyarrow>=15.0.0 in /usr/local/lib/python3.11/dist-packages (from datasets) (17.0.0)\n",
            "Collecting dill<0.3.9,>=0.3.0 (from datasets)\n",
            "  Downloading dill-0.3.8-py3-none-any.whl.metadata (10 kB)\n",
            "Requirement already satisfied: pandas in /usr/local/lib/python3.11/dist-packages (from datasets) (2.2.2)\n",
            "Requirement already satisfied: requests>=2.32.2 in /usr/local/lib/python3.11/dist-packages (from datasets) (2.32.3)\n",
            "Requirement already satisfied: tqdm>=4.66.3 in /usr/local/lib/python3.11/dist-packages (from datasets) (4.67.1)\n",
            "Collecting xxhash (from datasets)\n",
            "  Downloading xxhash-3.5.0-cp311-cp311-manylinux_2_17_x86_64.manylinux2014_x86_64.whl.metadata (12 kB)\n",
            "Collecting multiprocess<0.70.17 (from datasets)\n",
            "  Downloading multiprocess-0.70.16-py311-none-any.whl.metadata (7.2 kB)\n",
            "Collecting fsspec<=2024.9.0,>=2023.1.0 (from fsspec[http]<=2024.9.0,>=2023.1.0->datasets)\n",
            "  Downloading fsspec-2024.9.0-py3-none-any.whl.metadata (11 kB)\n",
            "Requirement already satisfied: aiohttp in /usr/local/lib/python3.11/dist-packages (from datasets) (3.11.11)\n",
            "Requirement already satisfied: huggingface-hub>=0.23.0 in /usr/local/lib/python3.11/dist-packages (from datasets) (0.27.1)\n",
            "Requirement already satisfied: packaging in /usr/local/lib/python3.11/dist-packages (from datasets) (24.2)\n",
            "Requirement already satisfied: pyyaml>=5.1 in /usr/local/lib/python3.11/dist-packages (from datasets) (6.0.2)\n",
            "Requirement already satisfied: regex!=2019.12.17 in /usr/local/lib/python3.11/dist-packages (from transformers[sentencepiece]) (2024.11.6)\n",
            "Requirement already satisfied: tokenizers<0.22,>=0.21 in /usr/local/lib/python3.11/dist-packages (from transformers[sentencepiece]) (0.21.0)\n",
            "Requirement already satisfied: safetensors>=0.4.1 in /usr/local/lib/python3.11/dist-packages (from transformers[sentencepiece]) (0.5.2)\n",
            "Requirement already satisfied: sentencepiece!=0.1.92,>=0.1.91 in /usr/local/lib/python3.11/dist-packages (from transformers[sentencepiece]) (0.2.0)\n",
            "Requirement already satisfied: protobuf in /usr/local/lib/python3.11/dist-packages (from transformers[sentencepiece]) (4.25.5)\n",
            "Requirement already satisfied: aiohappyeyeballs>=2.3.0 in /usr/local/lib/python3.11/dist-packages (from aiohttp->datasets) (2.4.4)\n",
            "Requirement already satisfied: aiosignal>=1.1.2 in /usr/local/lib/python3.11/dist-packages (from aiohttp->datasets) (1.3.2)\n",
            "Requirement already satisfied: attrs>=17.3.0 in /usr/local/lib/python3.11/dist-packages (from aiohttp->datasets) (24.3.0)\n",
            "Requirement already satisfied: frozenlist>=1.1.1 in /usr/local/lib/python3.11/dist-packages (from aiohttp->datasets) (1.5.0)\n",
            "Requirement already satisfied: multidict<7.0,>=4.5 in /usr/local/lib/python3.11/dist-packages (from aiohttp->datasets) (6.1.0)\n",
            "Requirement already satisfied: propcache>=0.2.0 in /usr/local/lib/python3.11/dist-packages (from aiohttp->datasets) (0.2.1)\n",
            "Requirement already satisfied: yarl<2.0,>=1.17.0 in /usr/local/lib/python3.11/dist-packages (from aiohttp->datasets) (1.18.3)\n",
            "Requirement already satisfied: typing-extensions>=3.7.4.3 in /usr/local/lib/python3.11/dist-packages (from huggingface-hub>=0.23.0->datasets) (4.12.2)\n",
            "Requirement already satisfied: charset-normalizer<4,>=2 in /usr/local/lib/python3.11/dist-packages (from requests>=2.32.2->datasets) (3.4.1)\n",
            "Requirement already satisfied: idna<4,>=2.5 in /usr/local/lib/python3.11/dist-packages (from requests>=2.32.2->datasets) (3.10)\n",
            "Requirement already satisfied: urllib3<3,>=1.21.1 in /usr/local/lib/python3.11/dist-packages (from requests>=2.32.2->datasets) (2.3.0)\n",
            "Requirement already satisfied: certifi>=2017.4.17 in /usr/local/lib/python3.11/dist-packages (from requests>=2.32.2->datasets) (2024.12.14)\n",
            "Requirement already satisfied: python-dateutil>=2.8.2 in /usr/local/lib/python3.11/dist-packages (from pandas->datasets) (2.8.2)\n",
            "Requirement already satisfied: pytz>=2020.1 in /usr/local/lib/python3.11/dist-packages (from pandas->datasets) (2024.2)\n",
            "Requirement already satisfied: tzdata>=2022.7 in /usr/local/lib/python3.11/dist-packages (from pandas->datasets) (2025.1)\n",
            "Requirement already satisfied: six>=1.5 in /usr/local/lib/python3.11/dist-packages (from python-dateutil>=2.8.2->pandas->datasets) (1.17.0)\n",
            "Downloading datasets-3.2.0-py3-none-any.whl (480 kB)\n",
            "\u001b[2K   \u001b[90m━━━━━━━━━━━━━━━━━━━━━━━━━━━━━━━━━━━━━━━━\u001b[0m \u001b[32m480.6/480.6 kB\u001b[0m \u001b[31m13.3 MB/s\u001b[0m eta \u001b[36m0:00:00\u001b[0m\n",
            "\u001b[?25hDownloading evaluate-0.4.3-py3-none-any.whl (84 kB)\n",
            "\u001b[2K   \u001b[90m━━━━━━━━━━━━━━━━━━━━━━━━━━━━━━━━━━━━━━━━\u001b[0m \u001b[32m84.0/84.0 kB\u001b[0m \u001b[31m7.5 MB/s\u001b[0m eta \u001b[36m0:00:00\u001b[0m\n",
            "\u001b[?25hDownloading dill-0.3.8-py3-none-any.whl (116 kB)\n",
            "\u001b[2K   \u001b[90m━━━━━━━━━━━━━━━━━━━━━━━━━━━━━━━━━━━━━━━━\u001b[0m \u001b[32m116.3/116.3 kB\u001b[0m \u001b[31m8.9 MB/s\u001b[0m eta \u001b[36m0:00:00\u001b[0m\n",
            "\u001b[?25hDownloading fsspec-2024.9.0-py3-none-any.whl (179 kB)\n",
            "\u001b[2K   \u001b[90m━━━━━━━━━━━━━━━━━━━━━━━━━━━━━━━━━━━━━━━━\u001b[0m \u001b[32m179.3/179.3 kB\u001b[0m \u001b[31m16.9 MB/s\u001b[0m eta \u001b[36m0:00:00\u001b[0m\n",
            "\u001b[?25hDownloading multiprocess-0.70.16-py311-none-any.whl (143 kB)\n",
            "\u001b[2K   \u001b[90m━━━━━━━━━━━━━━━━━━━━━━━━━━━━━━━━━━━━━━━━\u001b[0m \u001b[32m143.5/143.5 kB\u001b[0m \u001b[31m11.7 MB/s\u001b[0m eta \u001b[36m0:00:00\u001b[0m\n",
            "\u001b[?25hDownloading xxhash-3.5.0-cp311-cp311-manylinux_2_17_x86_64.manylinux2014_x86_64.whl (194 kB)\n",
            "\u001b[2K   \u001b[90m━━━━━━━━━━━━━━━━━━━━━━━━━━━━━━━━━━━━━━━━\u001b[0m \u001b[32m194.8/194.8 kB\u001b[0m \u001b[31m16.1 MB/s\u001b[0m eta \u001b[36m0:00:00\u001b[0m\n",
            "\u001b[?25hInstalling collected packages: xxhash, fsspec, dill, multiprocess, datasets, evaluate\n",
            "  Attempting uninstall: fsspec\n",
            "    Found existing installation: fsspec 2024.10.0\n",
            "    Uninstalling fsspec-2024.10.0:\n",
            "      Successfully uninstalled fsspec-2024.10.0\n",
            "\u001b[31mERROR: pip's dependency resolver does not currently take into account all the packages that are installed. This behaviour is the source of the following dependency conflicts.\n",
            "gcsfs 2024.10.0 requires fsspec==2024.10.0, but you have fsspec 2024.9.0 which is incompatible.\u001b[0m\u001b[31m\n",
            "\u001b[0mSuccessfully installed datasets-3.2.0 dill-0.3.8 evaluate-0.4.3 fsspec-2024.9.0 multiprocess-0.70.16 xxhash-3.5.0\n"
          ]
        }
      ]
    },
    {
      "cell_type": "code",
      "source": [
        "from transformers import BertConfig, BertModel\n",
        "\n",
        "# Building the config\n",
        "config = BertConfig()\n",
        "\n",
        "# Building the model from the config\n",
        "model = BertModel(config)"
      ],
      "metadata": {
        "id": "IUVrywYwoy86"
      },
      "execution_count": null,
      "outputs": []
    },
    {
      "cell_type": "code",
      "source": [
        "print(config)"
      ],
      "metadata": {
        "colab": {
          "base_uri": "https://localhost:8080/"
        },
        "id": "ADL74Owbo3Vr",
        "outputId": "8f6225cf-29c5-4013-a30d-0c1e8aa51b60"
      },
      "execution_count": null,
      "outputs": [
        {
          "output_type": "stream",
          "name": "stdout",
          "text": [
            "BertConfig {\n",
            "  \"_attn_implementation_autoset\": true,\n",
            "  \"attention_probs_dropout_prob\": 0.1,\n",
            "  \"classifier_dropout\": null,\n",
            "  \"hidden_act\": \"gelu\",\n",
            "  \"hidden_dropout_prob\": 0.1,\n",
            "  \"hidden_size\": 768,\n",
            "  \"initializer_range\": 0.02,\n",
            "  \"intermediate_size\": 3072,\n",
            "  \"layer_norm_eps\": 1e-12,\n",
            "  \"max_position_embeddings\": 512,\n",
            "  \"model_type\": \"bert\",\n",
            "  \"num_attention_heads\": 12,\n",
            "  \"num_hidden_layers\": 12,\n",
            "  \"pad_token_id\": 0,\n",
            "  \"position_embedding_type\": \"absolute\",\n",
            "  \"transformers_version\": \"4.47.1\",\n",
            "  \"type_vocab_size\": 2,\n",
            "  \"use_cache\": true,\n",
            "  \"vocab_size\": 30522\n",
            "}\n",
            "\n"
          ]
        }
      ]
    },
    {
      "cell_type": "code",
      "source": [
        "from transformers import BertConfig, BertModel\n",
        "\n",
        "config = BertConfig()\n",
        "model = BertModel(config)\n",
        "\n",
        "# Model is randomly initialized!"
      ],
      "metadata": {
        "id": "lzHnZL3mo7HI"
      },
      "execution_count": null,
      "outputs": []
    },
    {
      "cell_type": "code",
      "source": [
        "from transformers import BertModel\n",
        "\n",
        "model = BertModel.from_pretrained(\"bert-base-cased\")"
      ],
      "metadata": {
        "colab": {
          "base_uri": "https://localhost:8080/",
          "height": 81,
          "referenced_widgets": [
            "6e9d0809f5394f119bb0071344e3f578",
            "24fc6cf67d82412f8021d324f7029001",
            "da9734d695e44ed18b4678f9e75ffcd6",
            "057de456163b4ee099bb68d91b57e45a",
            "dbf6c5554cbe447a97c733170ead5ab8",
            "27ef86af061d46c28562411de3165068",
            "91c14df0a2cd4208a441efd2837ef9fb",
            "5f0e871da8a448f1843a0d8e7ce23661",
            "f42416d6b5e3400d9cad2a6c0c8dd864",
            "9b5f958792924439b4638e290fd1f6a4",
            "1e5c64755e594459b2979bf89f1ca364",
            "b9fc7242c9fd4401af5404741abf8f96",
            "8696b0eda130481ea406d9b6875c507a",
            "6289cf675eb04ccab972cc1779b86629",
            "8527f8ef3b924e9697677c9cd6c2e10d",
            "1253077fb0b24002a980cbdc9570d017",
            "80f35dd2e40b4670a3698cb3e092179e",
            "ac821c6ded824f3b901d15732f9eff80",
            "7ad6bfa85c064fb4ab348e9c6e46bca1",
            "696b4f1977db41358eda71ec1b295554",
            "ef88c9979b5d491eb15dcd91f21260ed",
            "12371efa2dca42978d51c15ae0d472cf"
          ]
        },
        "id": "jAG9JCkQo_Cv",
        "outputId": "ab693376-1240-45bf-d0b1-274d59d8f673"
      },
      "execution_count": null,
      "outputs": [
        {
          "output_type": "display_data",
          "data": {
            "text/plain": [
              "config.json:   0%|          | 0.00/570 [00:00<?, ?B/s]"
            ],
            "application/vnd.jupyter.widget-view+json": {
              "version_major": 2,
              "version_minor": 0,
              "model_id": "6e9d0809f5394f119bb0071344e3f578"
            }
          },
          "metadata": {}
        },
        {
          "output_type": "display_data",
          "data": {
            "text/plain": [
              "model.safetensors:   0%|          | 0.00/436M [00:00<?, ?B/s]"
            ],
            "application/vnd.jupyter.widget-view+json": {
              "version_major": 2,
              "version_minor": 0,
              "model_id": "b9fc7242c9fd4401af5404741abf8f96"
            }
          },
          "metadata": {}
        }
      ]
    },
    {
      "cell_type": "code",
      "source": [
        "model.save_pretrained(\"directory_on_my_drive\")"
      ],
      "metadata": {
        "id": "DQr-CyIGpFCz"
      },
      "execution_count": null,
      "outputs": []
    },
    {
      "cell_type": "code",
      "source": [
        "from google.colab import drive\n",
        "drive.mount('/content/drive')\n",
        "\n",
        "model.save_pretrained('/content/drive/My Drive/NLP-HuggingFace/Models')"
      ],
      "metadata": {
        "colab": {
          "base_uri": "https://localhost:8080/"
        },
        "id": "v65Xbe9Kpyx9",
        "outputId": "f2984e0f-62e2-4f1a-e50a-001425d4c59c"
      },
      "execution_count": null,
      "outputs": [
        {
          "output_type": "stream",
          "name": "stdout",
          "text": [
            "Mounted at /content/drive\n"
          ]
        }
      ]
    },
    {
      "cell_type": "code",
      "source": [
        "sequences = [\"Hello!\", \"Cool.\", \"Nice!\"]"
      ],
      "metadata": {
        "id": "XucbEpRxqSMO"
      },
      "execution_count": null,
      "outputs": []
    },
    {
      "cell_type": "code",
      "source": [
        "encoded_sequences = [\n",
        "    [101, 7592, 999, 102],\n",
        "    [101, 4658, 1012, 102],\n",
        "    [101, 3835, 999, 102],\n",
        "]"
      ],
      "metadata": {
        "id": "gBLtOzp_qXe-"
      },
      "execution_count": null,
      "outputs": []
    },
    {
      "cell_type": "code",
      "source": [
        "import torch\n",
        "\n",
        "model_inputs = torch.tensor(encoded_sequences)"
      ],
      "metadata": {
        "id": "EJJMLuUOqaZS"
      },
      "execution_count": null,
      "outputs": []
    },
    {
      "cell_type": "code",
      "source": [
        "output = model(model_inputs)"
      ],
      "metadata": {
        "id": "WHmFBqM4qdcL"
      },
      "execution_count": null,
      "outputs": []
    },
    {
      "cell_type": "markdown",
      "metadata": {
        "id": "XBvUMBw5rU_7"
      },
      "source": [
        "# Tokenizers (PyTorch)"
      ]
    },
    {
      "cell_type": "markdown",
      "source": [
        "### Word-based"
      ],
      "metadata": {
        "id": "sfJXnmT8sruR"
      }
    },
    {
      "cell_type": "markdown",
      "source": [
        "![image.png](data:image/png;base64,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)"
      ],
      "metadata": {
        "id": "iylYF0CDsIcF"
      }
    },
    {
      "cell_type": "code",
      "execution_count": null,
      "metadata": {
        "id": "UfpA-VmlrF-5",
        "outputId": "e8b85fdf-eff6-49ea-ca99-97121e6534ed",
        "colab": {
          "base_uri": "https://localhost:8080/"
        }
      },
      "outputs": [
        {
          "output_type": "stream",
          "name": "stdout",
          "text": [
            "['Jim', 'Henson', 'was', 'a', 'puppeteer']\n"
          ]
        }
      ],
      "source": [
        "tokenized_text = \"Jim Henson was a puppeteer\".split()\n",
        "print(tokenized_text)"
      ]
    },
    {
      "cell_type": "markdown",
      "source": [
        "### Character-based"
      ],
      "metadata": {
        "id": "UpkBqCCDsvr5"
      }
    },
    {
      "cell_type": "markdown",
      "source": [
        "![image.png](data:image/png;base64,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)"
      ],
      "metadata": {
        "id": "zOvLAVPOsVl-"
      }
    },
    {
      "cell_type": "markdown",
      "source": [
        "### Subword Tokenization"
      ],
      "metadata": {
        "id": "PPFrsEThs0vo"
      }
    },
    {
      "cell_type": "markdown",
      "source": [
        "![image.png](data:image/png;base64,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)"
      ],
      "metadata": {
        "id": "jRjozyVvsZCu"
      }
    },
    {
      "cell_type": "code",
      "execution_count": null,
      "metadata": {
        "id": "u9aj7KOJrF-6",
        "colab": {
          "base_uri": "https://localhost:8080/",
          "height": 113,
          "referenced_widgets": [
            "2f753084445c4f2a8ded54d775ecd4e6",
            "1b8f6eef197145c4b662a33290465536",
            "e06b7fac1d614bab83908a3aa23606e3",
            "c26ce86fb9d34e60a9d32c8a779ceaf1",
            "f7e917e6d6244d69b8c90f777424ced7",
            "f40a78971e644e1ba12164c194e8ceec",
            "debc0de9158649a3b268decb76d51133",
            "424303e0bda54742ad90ad96f26ea8a0",
            "89f2300b565b4bfc9f697509ae33656d",
            "52a9c260d11e4c718c18240d83002a4a",
            "7f95e0ac8f534a1cb93f937de75c6aaa",
            "40bd66216b114ca4947485669a0a4a7e",
            "bb86d966c3e44d068df4c7c71e7dfc52",
            "388e7c566c934775ba22039a76756501",
            "7252f0b594d04f93861547bcb26713d6",
            "712a9fa87c9545b1b31c7d142ff385d1",
            "689a5bb3b75b4bc7a024353084208636",
            "ddc2954a86024085bbf9875cbd512581",
            "d96a0d8a03324220bdc960039e38a7fb",
            "0394d273ac2f4f90b8b189c439d16fc1",
            "5e3c04835b6e46818f854d7e3c9d7eb1",
            "152adea5f790427e9bfd1a3178407f52",
            "e2ea4af2b6aa4c98a2e30cc01d6cdd36",
            "4fd601c9316c460990f9fea40feaade0",
            "80a65e03b641451e98fa7404e175012e",
            "7767b33c7d8b4ee19135fc25376b760c",
            "47871d923f7a475f919939aaf8659637",
            "a82e97dd332d43d4a7e4924b464a54aa",
            "eff9eb082c894f0184c052f98e3d6ffc",
            "93766d8d1aa84cfe9f69de3186378a16",
            "e304a28534cc4af5953ec86338d5ab1f",
            "48ace86caf014a368d3dd2956133117f",
            "937c0015d12e4f8b8793c80b539d928e"
          ]
        },
        "outputId": "c946bbc2-2a31-402f-f78a-5e3783614add"
      },
      "outputs": [
        {
          "output_type": "display_data",
          "data": {
            "text/plain": [
              "tokenizer_config.json:   0%|          | 0.00/49.0 [00:00<?, ?B/s]"
            ],
            "application/vnd.jupyter.widget-view+json": {
              "version_major": 2,
              "version_minor": 0,
              "model_id": "2f753084445c4f2a8ded54d775ecd4e6"
            }
          },
          "metadata": {}
        },
        {
          "output_type": "display_data",
          "data": {
            "text/plain": [
              "vocab.txt:   0%|          | 0.00/213k [00:00<?, ?B/s]"
            ],
            "application/vnd.jupyter.widget-view+json": {
              "version_major": 2,
              "version_minor": 0,
              "model_id": "40bd66216b114ca4947485669a0a4a7e"
            }
          },
          "metadata": {}
        },
        {
          "output_type": "display_data",
          "data": {
            "text/plain": [
              "tokenizer.json:   0%|          | 0.00/436k [00:00<?, ?B/s]"
            ],
            "application/vnd.jupyter.widget-view+json": {
              "version_major": 2,
              "version_minor": 0,
              "model_id": "e2ea4af2b6aa4c98a2e30cc01d6cdd36"
            }
          },
          "metadata": {}
        }
      ],
      "source": [
        "from transformers import BertTokenizer\n",
        "\n",
        "tokenizer = BertTokenizer.from_pretrained(\"bert-base-cased\")"
      ]
    },
    {
      "cell_type": "markdown",
      "source": [
        "### Loading and saving"
      ],
      "metadata": {
        "id": "2BkFLXFJtG9e"
      }
    },
    {
      "cell_type": "code",
      "execution_count": null,
      "metadata": {
        "id": "G97sugJFrF-7",
        "colab": {
          "base_uri": "https://localhost:8080/",
          "height": 113,
          "referenced_widgets": [
            "1594112a0c714504be66f2eeb6e965af",
            "2855bcd4408c4cc69f7573d22ea21c4c",
            "c29c9f11a7c744af89254b1d31997fbc",
            "722b705022c140d784742c4a2eac7a59",
            "181430de1cac4044b0d46c3fd437b5d9",
            "aba1d48870c14b4ca7195ace469ee833",
            "09efa2c413f14503881dfb477f4549f7",
            "727a2bdb69e94aa49f0f99efeb9f934c",
            "89b723e8ed8941ec8bdd44c8bfd7d5ac",
            "470536c9a6ac4b4281cf302624f94a70",
            "f1bc9c14f35949c9b30935f8b80580e5",
            "f32cd8226e7a4223ae160e5a446de416",
            "43ef7db7f2f84f389081bf3455e908d7",
            "d80b6d8cf54b4ead96580d476b0eae2e",
            "cb4dcdecd71d4af4a4c3f6a9aca6420f",
            "2df9ae77aa3a4eeaab434915d53f4a36",
            "bb9edb65d54a456d9bcc0ef1c6689109",
            "cbc7555025854d5c92973932f55df4fe",
            "7f8412ad3a1648498b2bd860bc89cc8b",
            "438b598ba85c4a95a70a46caf4edbe99",
            "f2b391c125164edbb5dbdd5f69394bf6",
            "be98761cdcea4a4299d5039eaef0c000",
            "cda6cde7fca34d4da76d266a3906c130",
            "b08f987f37de485cbd61268979279172",
            "5485aef5ba184ff0b6350aa6875f04d2",
            "deee8dfcb05544daa7528b2901431d8b",
            "a84039429cc04e40852f9e450ce6eab8",
            "7c691513a1444d4a892f80f881906162",
            "07cd5f0a8292446d9b2e7b04983a62ee",
            "2b6842626a7e46d5a18b00972928e23c",
            "d6c1172d95a94854a03d0d73d2bbbec7",
            "aa4a9a7e01bb41518db78debdea088ba",
            "e7b8d0b8d44e4c06b2e722579764a02a"
          ]
        },
        "outputId": "bfc51552-d6a7-4dc4-b3fe-8910aafa3cec"
      },
      "outputs": [
        {
          "output_type": "display_data",
          "data": {
            "text/plain": [
              "tokenizer_config.json:   0%|          | 0.00/49.0 [00:00<?, ?B/s]"
            ],
            "application/vnd.jupyter.widget-view+json": {
              "version_major": 2,
              "version_minor": 0,
              "model_id": "1594112a0c714504be66f2eeb6e965af"
            }
          },
          "metadata": {}
        },
        {
          "output_type": "display_data",
          "data": {
            "text/plain": [
              "vocab.txt:   0%|          | 0.00/213k [00:00<?, ?B/s]"
            ],
            "application/vnd.jupyter.widget-view+json": {
              "version_major": 2,
              "version_minor": 0,
              "model_id": "f32cd8226e7a4223ae160e5a446de416"
            }
          },
          "metadata": {}
        },
        {
          "output_type": "display_data",
          "data": {
            "text/plain": [
              "tokenizer.json:   0%|          | 0.00/436k [00:00<?, ?B/s]"
            ],
            "application/vnd.jupyter.widget-view+json": {
              "version_major": 2,
              "version_minor": 0,
              "model_id": "cda6cde7fca34d4da76d266a3906c130"
            }
          },
          "metadata": {}
        }
      ],
      "source": [
        "from transformers import AutoTokenizer\n",
        "\n",
        "tokenizer = AutoTokenizer.from_pretrained(\"bert-base-cased\")"
      ]
    },
    {
      "cell_type": "code",
      "execution_count": null,
      "metadata": {
        "id": "9f1wTFeTrF-7",
        "outputId": "603805f4-1863-4a48-c287-1f7d9872e65a",
        "colab": {
          "base_uri": "https://localhost:8080/"
        }
      },
      "outputs": [
        {
          "output_type": "execute_result",
          "data": {
            "text/plain": [
              "{'input_ids': [101, 7993, 170, 13809, 23763, 2443, 1110, 3014, 102], 'token_type_ids': [0, 0, 0, 0, 0, 0, 0, 0, 0], 'attention_mask': [1, 1, 1, 1, 1, 1, 1, 1, 1]}"
            ]
          },
          "metadata": {},
          "execution_count": 28
        }
      ],
      "source": [
        "tokenizer(\"Using a Transformer network is simple\")"
      ]
    },
    {
      "cell_type": "code",
      "source": [
        "from google.colab import drive\n",
        "drive.mount('/content/drive')\n",
        "\n",
        "tokenizer.save_pretrained('/content/drive/My Drive/NLP-HuggingFace/Tokenizer')"
      ],
      "metadata": {
        "colab": {
          "base_uri": "https://localhost:8080/"
        },
        "id": "XvOeChxZrsx5",
        "outputId": "4067e779-e7eb-4bda-a443-dfa2f445735e"
      },
      "execution_count": null,
      "outputs": [
        {
          "output_type": "stream",
          "name": "stdout",
          "text": [
            "Drive already mounted at /content/drive; to attempt to forcibly remount, call drive.mount(\"/content/drive\", force_remount=True).\n"
          ]
        },
        {
          "output_type": "execute_result",
          "data": {
            "text/plain": [
              "('/content/drive/My Drive/NLP-HuggingFace/Tokenizer/tokenizer_config.json',\n",
              " '/content/drive/My Drive/NLP-HuggingFace/Tokenizer/special_tokens_map.json',\n",
              " '/content/drive/My Drive/NLP-HuggingFace/Tokenizer/vocab.txt',\n",
              " '/content/drive/My Drive/NLP-HuggingFace/Tokenizer/added_tokens.json',\n",
              " '/content/drive/My Drive/NLP-HuggingFace/Tokenizer/tokenizer.json')"
            ]
          },
          "metadata": {},
          "execution_count": 29
        }
      ]
    },
    {
      "cell_type": "markdown",
      "source": [
        "### Encoding"
      ],
      "metadata": {
        "id": "SgModk2YtoV9"
      }
    },
    {
      "cell_type": "markdown",
      "source": [
        "#### Tokenization"
      ],
      "metadata": {
        "id": "Pr-CPpzytWmL"
      }
    },
    {
      "cell_type": "code",
      "execution_count": null,
      "metadata": {
        "id": "hYLk9MJVrF-8",
        "outputId": "141dfc5b-5efe-490e-ab8f-051b0acf6f8e",
        "colab": {
          "base_uri": "https://localhost:8080/"
        }
      },
      "outputs": [
        {
          "output_type": "stream",
          "name": "stdout",
          "text": [
            "['Using', 'a', 'Trans', '##former', 'network', 'is', 'simple']\n"
          ]
        }
      ],
      "source": [
        "from transformers import AutoTokenizer\n",
        "\n",
        "tokenizer = AutoTokenizer.from_pretrained(\"bert-base-cased\")\n",
        "\n",
        "sequence = \"Using a Transformer network is simple\"\n",
        "tokens = tokenizer.tokenize(sequence)\n",
        "\n",
        "print(tokens)"
      ]
    },
    {
      "cell_type": "markdown",
      "source": [
        "#### From tokens to input IDs"
      ],
      "metadata": {
        "id": "1AU-F04ltjyc"
      }
    },
    {
      "cell_type": "code",
      "execution_count": null,
      "metadata": {
        "id": "-vCawzmfrF-8",
        "outputId": "ef3655f4-782d-43e8-b0e4-447a16563af3",
        "colab": {
          "base_uri": "https://localhost:8080/"
        }
      },
      "outputs": [
        {
          "output_type": "stream",
          "name": "stdout",
          "text": [
            "[7993, 170, 13809, 23763, 2443, 1110, 3014]\n"
          ]
        }
      ],
      "source": [
        "ids = tokenizer.convert_tokens_to_ids(tokens)\n",
        "\n",
        "print(ids)"
      ]
    },
    {
      "cell_type": "markdown",
      "source": [
        "### Decoding"
      ],
      "metadata": {
        "id": "XKx8jZrCtxII"
      }
    },
    {
      "cell_type": "code",
      "execution_count": null,
      "metadata": {
        "id": "J0y0pQ69rF-9",
        "outputId": "254b21e9-4811-4c39-bb9b-868050509cbc",
        "colab": {
          "base_uri": "https://localhost:8080/"
        }
      },
      "outputs": [
        {
          "output_type": "stream",
          "name": "stdout",
          "text": [
            "Using a transformer network is simple\n"
          ]
        }
      ],
      "source": [
        "decoded_string = tokenizer.decode([7993, 170, 11303, 1200, 2443, 1110, 3014])\n",
        "print(decoded_string)"
      ]
    }
  ]
}